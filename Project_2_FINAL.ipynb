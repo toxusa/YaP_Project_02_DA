{
 "cells": [
  {
   "cell_type": "markdown",
   "id": "2b9bf3e2",
   "metadata": {},
   "source": [
    "# Исследование надёжности заёмщиков"
   ]
  },
  {
   "cell_type": "markdown",
   "id": "775b7fc3",
   "metadata": {},
   "source": [
    "## Содержание\n",
    "1. [Описание проекта](#project_desctryption)\n",
    "2. [Обзор данных](#data_overview)\n",
    "3. [Предобработка данных](#data_prepare)<br>\n",
    "    3.1 [Поиск пропусков](#na_search)<br>\n",
    "    3.2 [Работа с артефактами и аномалиями в данных](#art_fix)<br>\n",
    "    3.3 [Поиск пропусков в столбце с ежемесячным доходом - `total_income`](#na_find_total_income)<br>\n",
    "    3.4 [Поиск дубликатов](#duobl_find)<br>\n",
    "4. [Категоризация данных и работа с гипотезой](#analis)\n",
    "5. [Ответы на вопросы](#questions)\n",
    "5. [Итоги исследования](#resume)"
   ]
  },
  {
   "cell_type": "markdown",
   "id": "5c9f943c",
   "metadata": {},
   "source": [
    "## Описание проекта <a name=\"project_desctryption\"></a>"
   ]
  },
  {
   "cell_type": "markdown",
   "id": "5749a4c1",
   "metadata": {},
   "source": [
    "Заказчик — кредитный отдел банка.\n",
    "\n",
    "**Цель исследования —** проверить гипотезу:\n",
    "\n",
    "<span style=\"color:red\">**влияет ли семейное положение и количество детей клиента на факт погашения кредита в срок**.</span><a name= \"hypothesis\"> </a>\n",
    "\n",
    "**Входные данные от банка** — статистика о платёжеспособности клиентов (файл `/datasets/data.csv`).\n",
    "Результаты исследования будут учтены при построении модели кредитного скоринга — специальной системы, которая оценивает способность потенциального заёмщика вернуть кредит банку.\n",
    "\n",
    "У нас есть общая информация о входных данных, разберём их далее. Исследование пройдёт в три этапа:\n",
    " 1. Обзор данных.\n",
    " 2. Предобработка данных.\n",
    " 3. Проверка гипотезы."
   ]
  },
  {
   "cell_type": "markdown",
   "id": "b3e17c72",
   "metadata": {},
   "source": [
    "## Обзор данных <a name=\"data_overiew\"></a>"
   ]
  },
  {
   "cell_type": "markdown",
   "id": "4b9dd089",
   "metadata": {},
   "source": [
    "Прочитаем файл с данными и сохраним его в переменную `df`"
   ]
  },
  {
   "cell_type": "code",
   "execution_count": 1,
   "id": "60076171",
   "metadata": {},
   "outputs": [],
   "source": [
    "import pandas as pd        # импортируем библиотеку pandas\n",
    "import seaborn as sps      # импортируем библиотеку seaborn\n",
    "from matplotlib import pyplot as plt # импортируем библиотеку для построения графиков\n",
    "import numpy as np # импортируем библиотеку numpy для отдельного использования функции nympy.mean () в главе 5\n",
    "\n",
    "try:\n",
    "    df = pd.read_csv('/datasets/data.csv') # чтение файла при выполнении задания в окружении Яндекса\n",
    "except:\n",
    "    df = pd.read_csv('data.csv') # чтение файла в локальном окружении на JupyterLab Server"
   ]
  },
  {
   "cell_type": "markdown",
   "id": "f8231135",
   "metadata": {},
   "source": [
    "Ознакомимся с данными, рочитав первые 10 строк таблицы:"
   ]
  },
  {
   "cell_type": "code",
   "execution_count": 2,
   "id": "9c1a45d7",
   "metadata": {},
   "outputs": [
    {
     "data": {
      "text/html": [
       "<div>\n",
       "<style scoped>\n",
       "    .dataframe tbody tr th:only-of-type {\n",
       "        vertical-align: middle;\n",
       "    }\n",
       "\n",
       "    .dataframe tbody tr th {\n",
       "        vertical-align: top;\n",
       "    }\n",
       "\n",
       "    .dataframe thead th {\n",
       "        text-align: right;\n",
       "    }\n",
       "</style>\n",
       "<table border=\"1\" class=\"dataframe\">\n",
       "  <thead>\n",
       "    <tr style=\"text-align: right;\">\n",
       "      <th></th>\n",
       "      <th>children</th>\n",
       "      <th>days_employed</th>\n",
       "      <th>dob_years</th>\n",
       "      <th>education</th>\n",
       "      <th>education_id</th>\n",
       "      <th>family_status</th>\n",
       "      <th>family_status_id</th>\n",
       "      <th>gender</th>\n",
       "      <th>income_type</th>\n",
       "      <th>debt</th>\n",
       "      <th>total_income</th>\n",
       "      <th>purpose</th>\n",
       "    </tr>\n",
       "  </thead>\n",
       "  <tbody>\n",
       "    <tr>\n",
       "      <th>0</th>\n",
       "      <td>1</td>\n",
       "      <td>-8437.673028</td>\n",
       "      <td>42</td>\n",
       "      <td>высшее</td>\n",
       "      <td>0</td>\n",
       "      <td>женат / замужем</td>\n",
       "      <td>0</td>\n",
       "      <td>F</td>\n",
       "      <td>сотрудник</td>\n",
       "      <td>0</td>\n",
       "      <td>253875.639453</td>\n",
       "      <td>покупка жилья</td>\n",
       "    </tr>\n",
       "    <tr>\n",
       "      <th>1</th>\n",
       "      <td>1</td>\n",
       "      <td>-4024.803754</td>\n",
       "      <td>36</td>\n",
       "      <td>среднее</td>\n",
       "      <td>1</td>\n",
       "      <td>женат / замужем</td>\n",
       "      <td>0</td>\n",
       "      <td>F</td>\n",
       "      <td>сотрудник</td>\n",
       "      <td>0</td>\n",
       "      <td>112080.014102</td>\n",
       "      <td>приобретение автомобиля</td>\n",
       "    </tr>\n",
       "    <tr>\n",
       "      <th>2</th>\n",
       "      <td>0</td>\n",
       "      <td>-5623.422610</td>\n",
       "      <td>33</td>\n",
       "      <td>Среднее</td>\n",
       "      <td>1</td>\n",
       "      <td>женат / замужем</td>\n",
       "      <td>0</td>\n",
       "      <td>M</td>\n",
       "      <td>сотрудник</td>\n",
       "      <td>0</td>\n",
       "      <td>145885.952297</td>\n",
       "      <td>покупка жилья</td>\n",
       "    </tr>\n",
       "    <tr>\n",
       "      <th>3</th>\n",
       "      <td>3</td>\n",
       "      <td>-4124.747207</td>\n",
       "      <td>32</td>\n",
       "      <td>среднее</td>\n",
       "      <td>1</td>\n",
       "      <td>женат / замужем</td>\n",
       "      <td>0</td>\n",
       "      <td>M</td>\n",
       "      <td>сотрудник</td>\n",
       "      <td>0</td>\n",
       "      <td>267628.550329</td>\n",
       "      <td>дополнительное образование</td>\n",
       "    </tr>\n",
       "    <tr>\n",
       "      <th>4</th>\n",
       "      <td>0</td>\n",
       "      <td>340266.072047</td>\n",
       "      <td>53</td>\n",
       "      <td>среднее</td>\n",
       "      <td>1</td>\n",
       "      <td>гражданский брак</td>\n",
       "      <td>1</td>\n",
       "      <td>F</td>\n",
       "      <td>пенсионер</td>\n",
       "      <td>0</td>\n",
       "      <td>158616.077870</td>\n",
       "      <td>сыграть свадьбу</td>\n",
       "    </tr>\n",
       "    <tr>\n",
       "      <th>5</th>\n",
       "      <td>0</td>\n",
       "      <td>-926.185831</td>\n",
       "      <td>27</td>\n",
       "      <td>высшее</td>\n",
       "      <td>0</td>\n",
       "      <td>гражданский брак</td>\n",
       "      <td>1</td>\n",
       "      <td>M</td>\n",
       "      <td>компаньон</td>\n",
       "      <td>0</td>\n",
       "      <td>255763.565419</td>\n",
       "      <td>покупка жилья</td>\n",
       "    </tr>\n",
       "    <tr>\n",
       "      <th>6</th>\n",
       "      <td>0</td>\n",
       "      <td>-2879.202052</td>\n",
       "      <td>43</td>\n",
       "      <td>высшее</td>\n",
       "      <td>0</td>\n",
       "      <td>женат / замужем</td>\n",
       "      <td>0</td>\n",
       "      <td>F</td>\n",
       "      <td>компаньон</td>\n",
       "      <td>0</td>\n",
       "      <td>240525.971920</td>\n",
       "      <td>операции с жильем</td>\n",
       "    </tr>\n",
       "    <tr>\n",
       "      <th>7</th>\n",
       "      <td>0</td>\n",
       "      <td>-152.779569</td>\n",
       "      <td>50</td>\n",
       "      <td>СРЕДНЕЕ</td>\n",
       "      <td>1</td>\n",
       "      <td>женат / замужем</td>\n",
       "      <td>0</td>\n",
       "      <td>M</td>\n",
       "      <td>сотрудник</td>\n",
       "      <td>0</td>\n",
       "      <td>135823.934197</td>\n",
       "      <td>образование</td>\n",
       "    </tr>\n",
       "    <tr>\n",
       "      <th>8</th>\n",
       "      <td>2</td>\n",
       "      <td>-6929.865299</td>\n",
       "      <td>35</td>\n",
       "      <td>ВЫСШЕЕ</td>\n",
       "      <td>0</td>\n",
       "      <td>гражданский брак</td>\n",
       "      <td>1</td>\n",
       "      <td>F</td>\n",
       "      <td>сотрудник</td>\n",
       "      <td>0</td>\n",
       "      <td>95856.832424</td>\n",
       "      <td>на проведение свадьбы</td>\n",
       "    </tr>\n",
       "    <tr>\n",
       "      <th>9</th>\n",
       "      <td>0</td>\n",
       "      <td>-2188.756445</td>\n",
       "      <td>41</td>\n",
       "      <td>среднее</td>\n",
       "      <td>1</td>\n",
       "      <td>женат / замужем</td>\n",
       "      <td>0</td>\n",
       "      <td>M</td>\n",
       "      <td>сотрудник</td>\n",
       "      <td>0</td>\n",
       "      <td>144425.938277</td>\n",
       "      <td>покупка жилья для семьи</td>\n",
       "    </tr>\n",
       "  </tbody>\n",
       "</table>\n",
       "</div>"
      ],
      "text/plain": [
       "   children  days_employed  dob_years education  education_id  \\\n",
       "0         1   -8437.673028         42    высшее             0   \n",
       "1         1   -4024.803754         36   среднее             1   \n",
       "2         0   -5623.422610         33   Среднее             1   \n",
       "3         3   -4124.747207         32   среднее             1   \n",
       "4         0  340266.072047         53   среднее             1   \n",
       "5         0    -926.185831         27    высшее             0   \n",
       "6         0   -2879.202052         43    высшее             0   \n",
       "7         0    -152.779569         50   СРЕДНЕЕ             1   \n",
       "8         2   -6929.865299         35    ВЫСШЕЕ             0   \n",
       "9         0   -2188.756445         41   среднее             1   \n",
       "\n",
       "      family_status  family_status_id gender income_type  debt   total_income  \\\n",
       "0   женат / замужем                 0      F   сотрудник     0  253875.639453   \n",
       "1   женат / замужем                 0      F   сотрудник     0  112080.014102   \n",
       "2   женат / замужем                 0      M   сотрудник     0  145885.952297   \n",
       "3   женат / замужем                 0      M   сотрудник     0  267628.550329   \n",
       "4  гражданский брак                 1      F   пенсионер     0  158616.077870   \n",
       "5  гражданский брак                 1      M   компаньон     0  255763.565419   \n",
       "6   женат / замужем                 0      F   компаньон     0  240525.971920   \n",
       "7   женат / замужем                 0      M   сотрудник     0  135823.934197   \n",
       "8  гражданский брак                 1      F   сотрудник     0   95856.832424   \n",
       "9   женат / замужем                 0      M   сотрудник     0  144425.938277   \n",
       "\n",
       "                      purpose  \n",
       "0               покупка жилья  \n",
       "1     приобретение автомобиля  \n",
       "2               покупка жилья  \n",
       "3  дополнительное образование  \n",
       "4             сыграть свадьбу  \n",
       "5               покупка жилья  \n",
       "6           операции с жильем  \n",
       "7                 образование  \n",
       "8       на проведение свадьбы  \n",
       "9     покупка жилья для семьи  "
      ]
     },
     "execution_count": 2,
     "metadata": {},
     "output_type": "execute_result"
    }
   ],
   "source": [
    "df.head(10) # Чтение первых 10 строк датафрейма"
   ]
  },
  {
   "cell_type": "markdown",
   "id": "504bdc17",
   "metadata": {},
   "source": [
    "Получим общие данные о таблице:"
   ]
  },
  {
   "cell_type": "code",
   "execution_count": 3,
   "id": "5280c92f",
   "metadata": {},
   "outputs": [
    {
     "name": "stdout",
     "output_type": "stream",
     "text": [
      "<class 'pandas.core.frame.DataFrame'>\n",
      "RangeIndex: 21525 entries, 0 to 21524\n",
      "Data columns (total 12 columns):\n",
      " #   Column            Non-Null Count  Dtype  \n",
      "---  ------            --------------  -----  \n",
      " 0   children          21525 non-null  int64  \n",
      " 1   days_employed     19351 non-null  float64\n",
      " 2   dob_years         21525 non-null  int64  \n",
      " 3   education         21525 non-null  object \n",
      " 4   education_id      21525 non-null  int64  \n",
      " 5   family_status     21525 non-null  object \n",
      " 6   family_status_id  21525 non-null  int64  \n",
      " 7   gender            21525 non-null  object \n",
      " 8   income_type       21525 non-null  object \n",
      " 9   debt              21525 non-null  int64  \n",
      " 10  total_income      19351 non-null  float64\n",
      " 11  purpose           21525 non-null  object \n",
      "dtypes: float64(2), int64(5), object(5)\n",
      "memory usage: 2.0+ MB\n"
     ]
    }
   ],
   "source": [
    "df.info()"
   ]
  },
  {
   "cell_type": "markdown",
   "id": "64d8c746",
   "metadata": {},
   "source": [
    "Итак, у нас 12 столбцов с типами данных `int64`, `float64` и `object`.\n",
    "\n",
    "Обратим внимание на количество ненулевых значений - в таблице есть пропуски в столбцах `days_employed` и `total_income`.\n",
    "\n",
    "По названиям столбцов и значениям первых строк опишем значения каждого столбца, это пригодится в ориентировании и понимании, какие данные представлены для нашего исследования:\n",
    "\n",
    "* `children` - количество детей в семье;\n",
    "* `days_employed` - общий трудовой стаж в днях (очевидно - используется банком как показатель надежности клиента);\n",
    "* `dob_years` - возраст клиента в годах (\"dob\" - \"date of birth\", англ.);\n",
    "* `education` - образование клиента;\n",
    "* `education_id` - идентификатор уровня образования - некая категория уровня образования клиента;\n",
    "* `family_status` - семейное положение;\n",
    "* `family_status_id` - идентификатор семейного положения - категория семейного статуса;\n",
    "* `gender` - пол клиента;\n",
    "* `income_type` - тип занятости клиента;\n",
    "* `debt` - задолженность клиента. Показывает, имел ли клиента задолженность по возврату кредитов;\n",
    "* `total_income` - ежемесячный доход;\n",
    "* `purpose` - цель получения кредита."
   ]
  },
  {
   "cell_type": "markdown",
   "id": "cc15a581",
   "metadata": {},
   "source": [
    "Проверим, есть ли нарушения в стилях заголовков:"
   ]
  },
  {
   "cell_type": "code",
   "execution_count": 4,
   "id": "bdeab6a8",
   "metadata": {},
   "outputs": [
    {
     "data": {
      "text/plain": [
       "Index(['children', 'days_employed', 'dob_years', 'education', 'education_id',\n",
       "       'family_status', 'family_status_id', 'gender', 'income_type', 'debt',\n",
       "       'total_income', 'purpose'],\n",
       "      dtype='object')"
      ]
     },
     "execution_count": 4,
     "metadata": {},
     "output_type": "execute_result"
    }
   ],
   "source": [
    "df.columns # выведем названия столбцов таблицы"
   ]
  },
  {
   "cell_type": "markdown",
   "id": "ee6ec36e",
   "metadata": {},
   "source": [
    "Нарушения стилей заголовков таблицы нет, уже хорошо. Однако в самих данных видны нарушения стилей (заглавные буквы чередуются со строчными, присутствуют отрицательные числовые значения и пропуски). Постараемся найти все аномалии в данных и исправить их на этапе предобработки."
   ]
  },
  {
   "cell_type": "markdown",
   "id": "b0e6a7b7",
   "metadata": {},
   "source": [
    "**Выводы**\n",
    "\n",
    "В каждой строке таблицы - данные о клиенте банка, которых хочет взять кредит на определенные нужды. Часть колонок описывает нам самого клиента - его возраст, пол, семейное положение, количество детей, образование, род деятельности, количество отработанных дней и источник дохода. Другая часть - уровень дохода, текущий долг перед банком, а также цель получения кредита. \n",
    "\n",
    "В таблице присутствуют столбцы, которые содержат категориальные данные - уровень образования, разбитый на категории, а также семейный статус.<br>\n",
    "По всей видимости, данная категоризация упрощает работу программы кредитного скоринга для оценки кредитных рисков клиента банка."
   ]
  },
  {
   "cell_type": "markdown",
   "id": "680dbe10",
   "metadata": {},
   "source": [
    "## Предобработка данных <a name=\"data_prepare\"></a>"
   ]
  },
  {
   "cell_type": "markdown",
   "id": "3a6bbd73",
   "metadata": {},
   "source": [
    "### Поиск пропусков <a name=\"na_search\"></a>"
   ]
  },
  {
   "cell_type": "markdown",
   "id": "77e77b5e",
   "metadata": {},
   "source": [
    "Найдем пропущенные значения в данных (в предыдущем разделе мы обнаружили 2 столбца с пропущенными значениями, проверим себя, ничего ли не пропустили):"
   ]
  },
  {
   "cell_type": "code",
   "execution_count": 5,
   "id": "9bf4ea69",
   "metadata": {},
   "outputs": [
    {
     "data": {
      "text/plain": [
       "children               0\n",
       "days_employed       2174\n",
       "dob_years              0\n",
       "education              0\n",
       "education_id           0\n",
       "family_status          0\n",
       "family_status_id       0\n",
       "gender                 0\n",
       "income_type            0\n",
       "debt                   0\n",
       "total_income        2174\n",
       "purpose                0\n",
       "dtype: int64"
      ]
     },
     "execution_count": 5,
     "metadata": {},
     "output_type": "execute_result"
    }
   ],
   "source": [
    "df.isna().sum() # подсчёт пропущенных значений"
   ]
  },
  {
   "cell_type": "markdown",
   "id": "6b68115f",
   "metadata": {},
   "source": [
    "Действительно, два столбца (`days_employed` и `total_income`) содержат по 2174 пропущенных значения. \n",
    "\n",
    "Эти столбцы содержат количество отработанных дней и ежемесячный доход. Возможно, эти пропуски неслучайны - это одни и те же строки, которые соответствуют клиентам, которые не указали доход по причине отсутствия отработанных дней. Надо это проверить.\n",
    "\n",
    "Выведем первые 10 строк датафрейма, в которых значение поля `total_income` пропущено:"
   ]
  },
  {
   "cell_type": "code",
   "execution_count": 6,
   "id": "04f375cc",
   "metadata": {},
   "outputs": [
    {
     "data": {
      "text/html": [
       "<div>\n",
       "<style scoped>\n",
       "    .dataframe tbody tr th:only-of-type {\n",
       "        vertical-align: middle;\n",
       "    }\n",
       "\n",
       "    .dataframe tbody tr th {\n",
       "        vertical-align: top;\n",
       "    }\n",
       "\n",
       "    .dataframe thead th {\n",
       "        text-align: right;\n",
       "    }\n",
       "</style>\n",
       "<table border=\"1\" class=\"dataframe\">\n",
       "  <thead>\n",
       "    <tr style=\"text-align: right;\">\n",
       "      <th></th>\n",
       "      <th>children</th>\n",
       "      <th>days_employed</th>\n",
       "      <th>dob_years</th>\n",
       "      <th>education</th>\n",
       "      <th>education_id</th>\n",
       "      <th>family_status</th>\n",
       "      <th>family_status_id</th>\n",
       "      <th>gender</th>\n",
       "      <th>income_type</th>\n",
       "      <th>debt</th>\n",
       "      <th>total_income</th>\n",
       "      <th>purpose</th>\n",
       "    </tr>\n",
       "  </thead>\n",
       "  <tbody>\n",
       "    <tr>\n",
       "      <th>12</th>\n",
       "      <td>0</td>\n",
       "      <td>NaN</td>\n",
       "      <td>65</td>\n",
       "      <td>среднее</td>\n",
       "      <td>1</td>\n",
       "      <td>гражданский брак</td>\n",
       "      <td>1</td>\n",
       "      <td>M</td>\n",
       "      <td>пенсионер</td>\n",
       "      <td>0</td>\n",
       "      <td>NaN</td>\n",
       "      <td>сыграть свадьбу</td>\n",
       "    </tr>\n",
       "    <tr>\n",
       "      <th>26</th>\n",
       "      <td>0</td>\n",
       "      <td>NaN</td>\n",
       "      <td>41</td>\n",
       "      <td>среднее</td>\n",
       "      <td>1</td>\n",
       "      <td>женат / замужем</td>\n",
       "      <td>0</td>\n",
       "      <td>M</td>\n",
       "      <td>госслужащий</td>\n",
       "      <td>0</td>\n",
       "      <td>NaN</td>\n",
       "      <td>образование</td>\n",
       "    </tr>\n",
       "    <tr>\n",
       "      <th>29</th>\n",
       "      <td>0</td>\n",
       "      <td>NaN</td>\n",
       "      <td>63</td>\n",
       "      <td>среднее</td>\n",
       "      <td>1</td>\n",
       "      <td>Не женат / не замужем</td>\n",
       "      <td>4</td>\n",
       "      <td>F</td>\n",
       "      <td>пенсионер</td>\n",
       "      <td>0</td>\n",
       "      <td>NaN</td>\n",
       "      <td>строительство жилой недвижимости</td>\n",
       "    </tr>\n",
       "    <tr>\n",
       "      <th>41</th>\n",
       "      <td>0</td>\n",
       "      <td>NaN</td>\n",
       "      <td>50</td>\n",
       "      <td>среднее</td>\n",
       "      <td>1</td>\n",
       "      <td>женат / замужем</td>\n",
       "      <td>0</td>\n",
       "      <td>F</td>\n",
       "      <td>госслужащий</td>\n",
       "      <td>0</td>\n",
       "      <td>NaN</td>\n",
       "      <td>сделка с подержанным автомобилем</td>\n",
       "    </tr>\n",
       "    <tr>\n",
       "      <th>55</th>\n",
       "      <td>0</td>\n",
       "      <td>NaN</td>\n",
       "      <td>54</td>\n",
       "      <td>среднее</td>\n",
       "      <td>1</td>\n",
       "      <td>гражданский брак</td>\n",
       "      <td>1</td>\n",
       "      <td>F</td>\n",
       "      <td>пенсионер</td>\n",
       "      <td>1</td>\n",
       "      <td>NaN</td>\n",
       "      <td>сыграть свадьбу</td>\n",
       "    </tr>\n",
       "    <tr>\n",
       "      <th>65</th>\n",
       "      <td>0</td>\n",
       "      <td>NaN</td>\n",
       "      <td>21</td>\n",
       "      <td>среднее</td>\n",
       "      <td>1</td>\n",
       "      <td>Не женат / не замужем</td>\n",
       "      <td>4</td>\n",
       "      <td>M</td>\n",
       "      <td>компаньон</td>\n",
       "      <td>0</td>\n",
       "      <td>NaN</td>\n",
       "      <td>операции с коммерческой недвижимостью</td>\n",
       "    </tr>\n",
       "    <tr>\n",
       "      <th>67</th>\n",
       "      <td>0</td>\n",
       "      <td>NaN</td>\n",
       "      <td>52</td>\n",
       "      <td>высшее</td>\n",
       "      <td>0</td>\n",
       "      <td>женат / замужем</td>\n",
       "      <td>0</td>\n",
       "      <td>F</td>\n",
       "      <td>пенсионер</td>\n",
       "      <td>0</td>\n",
       "      <td>NaN</td>\n",
       "      <td>покупка жилья для семьи</td>\n",
       "    </tr>\n",
       "    <tr>\n",
       "      <th>72</th>\n",
       "      <td>1</td>\n",
       "      <td>NaN</td>\n",
       "      <td>32</td>\n",
       "      <td>высшее</td>\n",
       "      <td>0</td>\n",
       "      <td>женат / замужем</td>\n",
       "      <td>0</td>\n",
       "      <td>M</td>\n",
       "      <td>госслужащий</td>\n",
       "      <td>0</td>\n",
       "      <td>NaN</td>\n",
       "      <td>операции с коммерческой недвижимостью</td>\n",
       "    </tr>\n",
       "    <tr>\n",
       "      <th>82</th>\n",
       "      <td>2</td>\n",
       "      <td>NaN</td>\n",
       "      <td>50</td>\n",
       "      <td>высшее</td>\n",
       "      <td>0</td>\n",
       "      <td>женат / замужем</td>\n",
       "      <td>0</td>\n",
       "      <td>F</td>\n",
       "      <td>сотрудник</td>\n",
       "      <td>0</td>\n",
       "      <td>NaN</td>\n",
       "      <td>жилье</td>\n",
       "    </tr>\n",
       "    <tr>\n",
       "      <th>83</th>\n",
       "      <td>0</td>\n",
       "      <td>NaN</td>\n",
       "      <td>52</td>\n",
       "      <td>среднее</td>\n",
       "      <td>1</td>\n",
       "      <td>женат / замужем</td>\n",
       "      <td>0</td>\n",
       "      <td>M</td>\n",
       "      <td>сотрудник</td>\n",
       "      <td>0</td>\n",
       "      <td>NaN</td>\n",
       "      <td>жилье</td>\n",
       "    </tr>\n",
       "  </tbody>\n",
       "</table>\n",
       "</div>"
      ],
      "text/plain": [
       "    children  days_employed  dob_years education  education_id  \\\n",
       "12         0            NaN         65   среднее             1   \n",
       "26         0            NaN         41   среднее             1   \n",
       "29         0            NaN         63   среднее             1   \n",
       "41         0            NaN         50   среднее             1   \n",
       "55         0            NaN         54   среднее             1   \n",
       "65         0            NaN         21   среднее             1   \n",
       "67         0            NaN         52    высшее             0   \n",
       "72         1            NaN         32    высшее             0   \n",
       "82         2            NaN         50    высшее             0   \n",
       "83         0            NaN         52   среднее             1   \n",
       "\n",
       "            family_status  family_status_id gender  income_type  debt  \\\n",
       "12       гражданский брак                 1      M    пенсионер     0   \n",
       "26        женат / замужем                 0      M  госслужащий     0   \n",
       "29  Не женат / не замужем                 4      F    пенсионер     0   \n",
       "41        женат / замужем                 0      F  госслужащий     0   \n",
       "55       гражданский брак                 1      F    пенсионер     1   \n",
       "65  Не женат / не замужем                 4      M    компаньон     0   \n",
       "67        женат / замужем                 0      F    пенсионер     0   \n",
       "72        женат / замужем                 0      M  госслужащий     0   \n",
       "82        женат / замужем                 0      F    сотрудник     0   \n",
       "83        женат / замужем                 0      M    сотрудник     0   \n",
       "\n",
       "    total_income                                purpose  \n",
       "12           NaN                        сыграть свадьбу  \n",
       "26           NaN                            образование  \n",
       "29           NaN       строительство жилой недвижимости  \n",
       "41           NaN       сделка с подержанным автомобилем  \n",
       "55           NaN                        сыграть свадьбу  \n",
       "65           NaN  операции с коммерческой недвижимостью  \n",
       "67           NaN                покупка жилья для семьи  \n",
       "72           NaN  операции с коммерческой недвижимостью  \n",
       "82           NaN                                  жилье  \n",
       "83           NaN                                  жилье  "
      ]
     },
     "execution_count": 6,
     "metadata": {},
     "output_type": "execute_result"
    }
   ],
   "source": [
    "df[df['total_income'].isna()].head(10) # выведем первые 10 строк таблицы, в которой ежемесячный доход `total_income` не заполнен"
   ]
  },
  {
   "cell_type": "markdown",
   "id": "f674eaf4",
   "metadata": {},
   "source": [
    "Выясним, находятся ли пропущенные значения в найденных столбцах в одних и тех же строках.\n",
    "Для этого воспользуемся логическим `И` *(AND, &)* - найдем строки где пропуски находятся и по полю `days_employed`, и по полю  `total_income`. если количество будет равным 2174, значит все пропущенные значения находятся на одних и тех же строках."
   ]
  },
  {
   "cell_type": "code",
   "execution_count": 7,
   "id": "a8d8c2c7",
   "metadata": {},
   "outputs": [
    {
     "data": {
      "text/plain": [
       "2174"
      ]
     },
     "execution_count": 7,
     "metadata": {},
     "output_type": "execute_result"
    }
   ],
   "source": [
    "df[(df['total_income'].isna()) & (df['days_employed'].isna())].shape[0] # выводим количество строк в датафрейме,\n",
    "                                                                        # где 'total_income' и 'days_employed'\n",
    "                                                                        # пустые"
   ]
  },
  {
   "cell_type": "markdown",
   "id": "c76a9c02",
   "metadata": {},
   "source": [
    "Теперь можно уверенно сказать, что наше предположение оказалось верным, эти пропуски неслучайны и значения `total_income` и `days_employed` пропущены в одних и тех же строках датафрейма."
   ]
  },
  {
   "cell_type": "markdown",
   "id": "8a018e60",
   "metadata": {},
   "source": [
    "Какова возможная причина этих пропусков?<br>\n",
    "У клиентов пропущено количество отработанных дней и общая сумма доходов. Возможно, несколько причин, например:\n",
    "* работают сами на себя (например, фриланс);\n",
    "* не работают (студенты, пенсионеры);\n",
    "* по каким-то причинам не хотят раскрывать свой доход и стаж;\n",
    "* технические причины - ошибка при вводе данных в базу (маловероятно, но всегда возможен человеческий фактор, либо сбой работы техничесих средств обработки первичных данных, которыми наполянется база)."
   ]
  },
  {
   "cell_type": "markdown",
   "id": "590bd40f",
   "metadata": {},
   "source": [
    "Проверим, можно ли принебречь данными, содержащих пропущенные значения. <br>\n",
    "Подсчитаем, какую долю составляют пропущенные значения в каждом из столбцов (для удобного восприятия сразу умножим полученное значение на 100):"
   ]
  },
  {
   "cell_type": "code",
   "execution_count": 8,
   "id": "c57ac482",
   "metadata": {},
   "outputs": [
    {
     "data": {
      "text/plain": [
       "10.1"
      ]
     },
     "execution_count": 8,
     "metadata": {},
     "output_type": "execute_result"
    }
   ],
   "source": [
    "round(df['total_income'].isna().sum() * 100 / len(df), 2)   # разделим сумму строк таблицы, где 'total_income'\n",
    "                                                            # пропущено (NaN), на общее количество строк таблицы\n",
    "                                                            # и умножим результат на 100 для удобства,\n",
    "                                                            # округлим полученное значение до 2 знаков после запятой"
   ]
  },
  {
   "cell_type": "markdown",
   "id": "c79f24d7",
   "metadata": {},
   "source": [
    "Получается, что 10% записей в таблице имеют пропуски, тем не менее для нашей [*гипотезы*](#hypothesis) эти данные важны, поскольку содержат информацию о количестве детей и семейном положении. <br>\n",
    "Принебрегать такими данными нельзя. Займемся их обработкой позже."
   ]
  },
  {
   "cell_type": "markdown",
   "id": "871a106b",
   "metadata": {},
   "source": [
    "### Работа с артефактами и аномалиями в данных <a name= \"art_fix\"> </a>"
   ]
  },
  {
   "cell_type": "markdown",
   "id": "79cc5f07",
   "metadata": {},
   "source": [
    "Посмотрим на каждый из столбцов для выявления аномалий.\n",
    "\n",
    "Возьмем первый столбец.\n",
    "\n",
    "#### Количество детей - `children`"
   ]
  },
  {
   "cell_type": "code",
   "execution_count": 9,
   "id": "f2ca20df",
   "metadata": {},
   "outputs": [
    {
     "data": {
      "text/plain": [
       "children\n",
       " 0     14149\n",
       " 1      4818\n",
       " 2      2055\n",
       " 3       330\n",
       " 20       76\n",
       "-1        47\n",
       " 4        41\n",
       " 5         9\n",
       "dtype: int64"
      ]
     },
     "execution_count": 9,
     "metadata": {},
     "output_type": "execute_result"
    }
   ],
   "source": [
    "df.value_counts('children') # считаем количество уникальных значений по столбцу `children` - количество детей"
   ]
  },
  {
   "cell_type": "markdown",
   "id": "f28be939",
   "metadata": {},
   "source": [
    "Мы видим 47 строк со значениями `-1`, 76 строк со значениями `20`. Таких строк совсем мало, они врядли повлияют на результат исследование. Тем не менее, заменим значение -1 на 1, а 20 на 2 (скорее всего при вводе значения с количеством детей произошла техническая ошибка.<br>\n",
    "Не будем удалять строки с данными значениями, присоединим их к наиболее многочисленному множеству."
   ]
  },
  {
   "cell_type": "code",
   "execution_count": 10,
   "id": "ca35c9fb",
   "metadata": {},
   "outputs": [],
   "source": [
    "df.loc[df['children'] == -1, 'children'] = 1 # если в столбце 'children' равен -1 заменяем все значения на 1\n",
    "df.loc[df['children'] == 20, 'children'] = 2 # если в столбце 'children' равен 20 заменяем все значения на 2"
   ]
  },
  {
   "cell_type": "markdown",
   "id": "534af3d5",
   "metadata": {},
   "source": [
    "Проверим результат"
   ]
  },
  {
   "cell_type": "code",
   "execution_count": 11,
   "id": "798e4cb4",
   "metadata": {},
   "outputs": [
    {
     "data": {
      "text/plain": [
       "children\n",
       "0    14149\n",
       "1     4865\n",
       "2     2131\n",
       "3      330\n",
       "4       41\n",
       "5        9\n",
       "dtype: int64"
      ]
     },
     "execution_count": 11,
     "metadata": {},
     "output_type": "execute_result"
    }
   ],
   "source": [
    "df.value_counts('children')"
   ]
  },
  {
   "cell_type": "markdown",
   "id": "11e2ff33",
   "metadata": {},
   "source": [
    "Приведем тип данных к integer для небольшой экономии памяти:"
   ]
  },
  {
   "cell_type": "code",
   "execution_count": 12,
   "id": "6543e0e6",
   "metadata": {},
   "outputs": [
    {
     "data": {
      "text/plain": [
       "dtype('int64')"
      ]
     },
     "execution_count": 12,
     "metadata": {},
     "output_type": "execute_result"
    }
   ],
   "source": [
    "df['children'] = df['children'].astype(int)\n",
    "df['children'].dtype"
   ]
  },
  {
   "cell_type": "markdown",
   "id": "f6806f02",
   "metadata": {},
   "source": [
    "Здесь аномалий больше нет, теперь к следующему столбцу:\n",
    "\n",
    "#### Трудовой стаж в днях - `days_employed`:"
   ]
  },
  {
   "cell_type": "code",
   "execution_count": 13,
   "id": "05b67554",
   "metadata": {},
   "outputs": [
    {
     "data": {
      "text/plain": [
       "days_employed\n",
       "-18388.949901     1\n",
       "-15835.725775     1\n",
       "-15785.678893     1\n",
       "-15773.061335     1\n",
       "-15618.063786     1\n",
       "                 ..\n",
       " 401458.877781    1\n",
       " 400147.947311    1\n",
       " 401446.446720    1\n",
       " 401161.158251    1\n",
       " 401755.400475    1\n",
       "Length: 19351, dtype: int64"
      ]
     },
     "execution_count": 13,
     "metadata": {},
     "output_type": "execute_result"
    }
   ],
   "source": [
    "df.value_counts('days_employed').sort_values()"
   ]
  },
  {
   "cell_type": "markdown",
   "id": "d36ea14a",
   "metadata": {},
   "source": [
    "Среди значений общего трудового стажа в днях есть числа меньше нуля, так быть не должно. Посмотрим, сколько таких значений и в чем возможная причина такой записи:"
   ]
  },
  {
   "cell_type": "code",
   "execution_count": 14,
   "id": "59a1dd01",
   "metadata": {},
   "outputs": [
    {
     "name": "stdout",
     "output_type": "stream",
     "text": [
      "Количество дней меньше нуля - 15906, что составляет 74% процента от общего количества значений столбца\n"
     ]
    }
   ],
   "source": [
    "days_employed_subzero_count = df[df['days_employed'] < 0]['days_employed'].count() # считаем 'days_employed'\n",
    "                                                                                   # меньше 0 и выводим на экран\n",
    "\n",
    "print(f'Количество дней меньше нуля - {days_employed_subzero_count}, что составляет ' \n",
    "        f'{days_employed_subzero_count / len(df):.0%} процента от общего количества значений столбца') # делим количество отрицательных значений\n",
    "                                                                                                # `days_employed` на общее количество записей"
   ]
  },
  {
   "cell_type": "code",
   "execution_count": 15,
   "id": "afce1ab0",
   "metadata": {},
   "outputs": [
    {
     "name": "stdout",
     "output_type": "stream",
     "text": [
      "\n",
      "      Минимальное отрицательное значение стажа:'\n",
      "      -18388.949900568383\n",
      "      \n",
      "      Максимальное отрицательное значение стажа:\n",
      "      -24.14163324048118\n",
      "      \n",
      "      Медианное отрицательное значение стажа:\n",
      "      -1630.0193809778218\n"
     ]
    }
   ],
   "source": [
    "print(f'''\n",
    "      Минимальное отрицательное значение стажа:'\n",
    "      {df[df['days_employed'] < 0]['days_employed'].min()}\n",
    "      \n",
    "      Максимальное отрицательное значение стажа:\n",
    "      {df[df['days_employed'] < 0]['days_employed'].max()}\n",
    "      \n",
    "      Медианное отрицательное значение стажа:\n",
    "      {df[df['days_employed'] < 0]['days_employed'].median()}''') # считаем минимум, максимум и медиану \n",
    "                                                                  # отрицательных значений 'days_employed'"
   ]
  },
  {
   "cell_type": "code",
   "execution_count": 16,
   "id": "95d60e0a",
   "metadata": {},
   "outputs": [
    {
     "name": "stdout",
     "output_type": "stream",
     "text": [
      "\n",
      "      Минимальное положительное значение стажа:'\n",
      "      328728.72060451825\n",
      "      \n",
      "      Максимальное положительное значение стажа:\n",
      "      401755.40047533\n",
      "      \n",
      "      Медианное отрицательное значение стажа:\n",
      "      365213.3062657312\n"
     ]
    }
   ],
   "source": [
    "print(f'''\n",
    "      Минимальное положительное значение стажа:'\n",
    "      {df[df['days_employed'] > 0]['days_employed'].min()}\n",
    "      \n",
    "      Максимальное положительное значение стажа:\n",
    "      {df[df['days_employed'] > 0]['days_employed'].max()}\n",
    "      \n",
    "      Медианное отрицательное значение стажа:\n",
    "      {df[df['days_employed'] > 0]['days_employed'].median()}''') # считаем минимум, максимум и медиану \n",
    "                                                                  # положительных значений 'days_employed'"
   ]
  },
  {
   "cell_type": "markdown",
   "id": "14a8ebcc",
   "metadata": {},
   "source": [
    "Начало трудоспособного возраста гражданина - 18 лет. Возраст выхода на пенсию для мужчин - 65 лет. \n",
    "Таким образом, найдем примерный максимум возможных отработанных дней (работающих пенсионеров не будем учитывать, найдем лишь приближение к максимуму трудового стажа в днях):"
   ]
  },
  {
   "cell_type": "code",
   "execution_count": 17,
   "id": "4ed2b84c",
   "metadata": {},
   "outputs": [
    {
     "data": {
      "text/plain": [
       "17155"
      ]
     },
     "execution_count": 17,
     "metadata": {},
     "output_type": "execute_result"
    }
   ],
   "source": [
    "(65 - 18) * 365 # считаем разницу возраста начала и окончания максимального трудового стажа и умножаем  \n",
    "                # на количество дней в году"
   ]
  },
  {
   "cell_type": "markdown",
   "id": "e1829828",
   "metadata": {},
   "source": [
    "Полученное значение наиболее близки к максимальному по модулю значению максимального стажа среди отрицательных (|-1630.019| = 1630.019).\n",
    "\n",
    "Можно сделать вывод о том, что, скорее всего, отрицательные значения в `days_employed` должны быть положительными, поскольку минимум, максимум и медиана **по модулю** вполне укладываются в значения возможных отработанных дней большинства людей.\n",
    "\n",
    "К сожалению, такого нельзя сказать о положительных значениях столбца `days_employed`. С ними явно что-то не так, и нам надо постараться найти  аномалии и закономерности в них."
   ]
  },
  {
   "cell_type": "markdown",
   "id": "444b1f9f",
   "metadata": {},
   "source": [
    "Количество отработанных дней, как правило, кореллирует с возрастом человека. Создадим новый датафрейм, включив в него значения `days_employed` больше нуля (поскольку они явно аномальные) и `dob_years` (возраст клиента):"
   ]
  },
  {
   "cell_type": "code",
   "execution_count": 18,
   "id": "3e29b81b",
   "metadata": {},
   "outputs": [],
   "source": [
    "df_big_days = df.loc[df['days_employed'] > 0, ['days_employed', 'dob_years']] # `df_big_days` содержит два столбца - `days_employed` > 0 и \n",
    "                                                                              # `dob_years` - возраст клиента"
   ]
  },
  {
   "cell_type": "markdown",
   "id": "a96bc36a",
   "metadata": {},
   "source": [
    "Поскольку возраст клиента указан в годах, а общий трудовой стаж в днях, переведем это значение в годы для удобства восприятия и дальнейшего анализа:"
   ]
  },
  {
   "cell_type": "code",
   "execution_count": 19,
   "id": "f3c80f5b",
   "metadata": {},
   "outputs": [],
   "source": [
    "df_big_days['years_employed'] = df_big_days['days_employed'] / 365   # создаем новый столбец `years_employed` с отработанным временем в годах\n",
    "df_big_days = df_big_days.drop('days_employed', axis=1)              # удаляем столбец `days_employed`, поскольку он нам больше не нужен"
   ]
  },
  {
   "cell_type": "code",
   "execution_count": 20,
   "id": "d46d4bab",
   "metadata": {},
   "outputs": [
    {
     "data": {
      "text/html": [
       "<div>\n",
       "<style scoped>\n",
       "    .dataframe tbody tr th:only-of-type {\n",
       "        vertical-align: middle;\n",
       "    }\n",
       "\n",
       "    .dataframe tbody tr th {\n",
       "        vertical-align: top;\n",
       "    }\n",
       "\n",
       "    .dataframe thead th {\n",
       "        text-align: right;\n",
       "    }\n",
       "</style>\n",
       "<table border=\"1\" class=\"dataframe\">\n",
       "  <thead>\n",
       "    <tr style=\"text-align: right;\">\n",
       "      <th></th>\n",
       "      <th>dob_years</th>\n",
       "      <th>years_employed</th>\n",
       "    </tr>\n",
       "  </thead>\n",
       "  <tbody>\n",
       "    <tr>\n",
       "      <th>4922</th>\n",
       "      <td>0</td>\n",
       "      <td>921.961660</td>\n",
       "    </tr>\n",
       "    <tr>\n",
       "      <th>15886</th>\n",
       "      <td>0</td>\n",
       "      <td>974.913109</td>\n",
       "    </tr>\n",
       "    <tr>\n",
       "      <th>20577</th>\n",
       "      <td>0</td>\n",
       "      <td>908.880196</td>\n",
       "    </tr>\n",
       "    <tr>\n",
       "      <th>1175</th>\n",
       "      <td>0</td>\n",
       "      <td>1016.108241</td>\n",
       "    </tr>\n",
       "    <tr>\n",
       "      <th>12729</th>\n",
       "      <td>0</td>\n",
       "      <td>972.903359</td>\n",
       "    </tr>\n",
       "    <tr>\n",
       "      <th>...</th>\n",
       "      <td>...</td>\n",
       "      <td>...</td>\n",
       "    </tr>\n",
       "    <tr>\n",
       "      <th>6406</th>\n",
       "      <td>73</td>\n",
       "      <td>965.040547</td>\n",
       "    </tr>\n",
       "    <tr>\n",
       "      <th>3460</th>\n",
       "      <td>74</td>\n",
       "      <td>944.174893</td>\n",
       "    </tr>\n",
       "    <tr>\n",
       "      <th>4895</th>\n",
       "      <td>74</td>\n",
       "      <td>935.693496</td>\n",
       "    </tr>\n",
       "    <tr>\n",
       "      <th>19642</th>\n",
       "      <td>74</td>\n",
       "      <td>1041.507910</td>\n",
       "    </tr>\n",
       "    <tr>\n",
       "      <th>2557</th>\n",
       "      <td>74</td>\n",
       "      <td>1021.537271</td>\n",
       "    </tr>\n",
       "  </tbody>\n",
       "</table>\n",
       "<p>3445 rows × 2 columns</p>\n",
       "</div>"
      ],
      "text/plain": [
       "       dob_years  years_employed\n",
       "4922           0      921.961660\n",
       "15886          0      974.913109\n",
       "20577          0      908.880196\n",
       "1175           0     1016.108241\n",
       "12729          0      972.903359\n",
       "...          ...             ...\n",
       "6406          73      965.040547\n",
       "3460          74      944.174893\n",
       "4895          74      935.693496\n",
       "19642         74     1041.507910\n",
       "2557          74     1021.537271\n",
       "\n",
       "[3445 rows x 2 columns]"
      ]
     },
     "execution_count": 20,
     "metadata": {},
     "output_type": "execute_result"
    }
   ],
   "source": [
    "df_big_days.sort_values('dob_years')  # посмотрим, что получилось, отсортируем новый датафрейм с большим количеством отработанных дней \n",
    "                                     # по возрасту клиента"
   ]
  },
  {
   "cell_type": "markdown",
   "id": "c0399b5a",
   "metadata": {},
   "source": [
    "У нас есть нулевые значения `dob_years` Они могут испортить статистику, если их количество мало, удалим их из датафрейма:"
   ]
  },
  {
   "cell_type": "code",
   "execution_count": 21,
   "id": "83d62228-677d-4a90-9ef4-d7076041f49f",
   "metadata": {},
   "outputs": [
    {
     "data": {
      "text/plain": [
       "17"
      ]
     },
     "execution_count": 21,
     "metadata": {},
     "output_type": "execute_result"
    }
   ],
   "source": [
    "df_big_days[df_big_days['dob_years'] == 0]['dob_years'].count() # подсчитаем количество строк df_big_days, где `dob_years` равно нулю"
   ]
  },
  {
   "cell_type": "markdown",
   "id": "34fba8e2-5642-4325-8ec0-82420250d10c",
   "metadata": {},
   "source": [
    "Таких значений всего 17, удалим их из датафрейма `df_big_days`"
   ]
  },
  {
   "cell_type": "code",
   "execution_count": 22,
   "id": "1ad869dc",
   "metadata": {},
   "outputs": [],
   "source": [
    "df_big_days = df_big_days[df_big_days['dob_years'] > 0] # объявляем df_big_days, который содержит возраст клиента `dob_years` больше нуля "
   ]
  },
  {
   "cell_type": "markdown",
   "id": "b2292a97",
   "metadata": {},
   "source": [
    "Построим парный график для визуализации значений, которые мы получили:"
   ]
  },
  {
   "cell_type": "code",
   "execution_count": 23,
   "id": "7c2faf65",
   "metadata": {},
   "outputs": [
    {
     "data": {
      "text/plain": [
       "<seaborn.axisgrid.PairGrid at 0x7ff609941f10>"
      ]
     },
     "execution_count": 23,
     "metadata": {},
     "output_type": "execute_result"
    },
    {
     "data": {
      "image/png": "[encoded data removed]",
      "text/plain": [
       "<Figure size 360x360 with 6 Axes>"
      ]
     },
     "metadata": {
      "needs_background": "light"
     },
     "output_type": "display_data"
    }
   ],
   "source": [
    "sps.pairplot(df_big_days)  # строим парный график для визуализации данных с аномалиями"
   ]
  },
  {
   "cell_type": "markdown",
   "id": "2a45b6a6",
   "metadata": {},
   "source": [
    "По графику видно, что больше всего аномалий по трудовому стажу в годах сосредоточена в возрастной категории примерно 45 - 75 лет.\n",
    "Сузим границы и построим график-гистограмму распределения этих значений:"
   ]
  },
  {
   "cell_type": "code",
   "execution_count": 24,
   "id": "13508c74",
   "metadata": {},
   "outputs": [
    {
     "data": {
      "text/plain": [
       "<AxesSubplot:xlabel='dob_years', ylabel='years_employed'>"
      ]
     },
     "execution_count": 24,
     "metadata": {},
     "output_type": "execute_result"
    },
    {
     "data": {
      "image/png": "[encoded data removed]",
      "text/plain": [
       "<Figure size 432x288 with 1 Axes>"
      ]
     },
     "metadata": {
      "needs_background": "light"
     },
     "output_type": "display_data"
    }
   ],
   "source": [
    "sps.histplot(df_big_days[df_big_days['dob_years'] > 45], x='dob_years', y='years_employed', discrete=(True, True)) # строим гистограмму, где \n",
    "                                                                                                                   # по оси X - возраста старше 45, \n",
    "                                                                                                                   # а по Y - аномальный трудовой стаж"
   ]
  },
  {
   "cell_type": "markdown",
   "id": "898c39c2",
   "metadata": {},
   "source": [
    "Очень похоже на нормальное распределение, в нашем случае распределение отработанных лет по возрастам от 45 до 75 лет.<br>\n",
    "Судя по всему, аномалии с отработанными днями носят случайный характер, а их количество по возрастам поддаётся нормальному распределению. Нужно проверить, как распределяется трудовой стаж относительно возраста на неискаженных данных, сделаем это чуть [*позже*](#alloc).\n",
    "Поскольку значения параметра `days_employed` не важны в нашем исследовании, можно не восстанавливать значения указанного параметра, а заменить аномальные значения на медианное для данной возрастной категории в тех данных, которые без аномалий. Остальную (ту часть, что не укладывается в возрастной диапазон от 45 до 75 лет) заменим на медианное значение всего датасета."
   ]
  },
  {
   "cell_type": "markdown",
   "id": "4900e064",
   "metadata": {},
   "source": [
    "Итак, пойдем в следующем порядке:\n",
    "* отрицательные значения сделаем положительными;\n",
    "* округлим значения дней до 0 знаков после запятой;\n",
    "* заменим все пропуски в датасете на медианное значение;\n",
    "* приведем столбец `days_employed` к типу `integer`;\n",
    "* заменим все большие значения `days_employed` (минимальная граница начала диапазона больших значений была найдена ранее - `328728`) в возрастной категории больше 45 лет (`dob_years > 45`) на медианное значение остального датасета той же возрастного диапазона.\n"
   ]
  },
  {
   "cell_type": "code",
   "execution_count": 25,
   "id": "d24a410d",
   "metadata": {
    "tags": []
   },
   "outputs": [],
   "source": [
    "df['days_employed'] = round(abs(df['days_employed'])) # столбец 'days_employed' приводим к положительному значению (берем по модулю)\n",
    "                                                      # и округляем"
   ]
  },
  {
   "cell_type": "code",
   "execution_count": 26,
   "id": "a4133946",
   "metadata": {},
   "outputs": [
    {
     "data": {
      "text/plain": [
       "0      8438\n",
       "1      4025\n",
       "2      5623\n",
       "3      4125\n",
       "4    340266\n",
       "Name: days_employed, dtype: int64"
      ]
     },
     "execution_count": 26,
     "metadata": {},
     "output_type": "execute_result"
    }
   ],
   "source": [
    "df['days_employed'] = df['days_employed'].fillna(df['days_employed'].median())  # заменяем пропущенные значения на медианное и\n",
    "df['days_employed'] = df['days_employed'].astype(int)                           # приводим значения столбца `days_employed` к integer\n",
    "df['days_employed'].head()                                                      # проверяем, что все значения `days_employed` стали натуральными"
   ]
  },
  {
   "cell_type": "markdown",
   "id": "f162818e",
   "metadata": {},
   "source": [
    "Посмотрим на медиану всего получившегося столбца `days_employed`:"
   ]
  },
  {
   "cell_type": "code",
   "execution_count": 27,
   "id": "153adb74",
   "metadata": {},
   "outputs": [
    {
     "data": {
      "text/plain": [
       "2194.0"
      ]
     },
     "execution_count": 27,
     "metadata": {},
     "output_type": "execute_result"
    }
   ],
   "source": [
    "df['days_employed'].median() # находим медианное значение значений столбца с трудовым стажем клиентов в днях - `days_employed`"
   ]
  },
  {
   "cell_type": "markdown",
   "id": "c7cc2058",
   "metadata": {},
   "source": [
    "Отлично. Теперь найдем медиану для всех значений `days_employed` возрастной группы больше 45 лет."
   ]
  },
  {
   "cell_type": "code",
   "execution_count": 28,
   "id": "4d9beba0",
   "metadata": {},
   "outputs": [],
   "source": [
    "days_employed_dob_years_above_45_median = df[(df['dob_years'] > 45) & (df['days_employed'] < 328728)]['days_employed']  \\\n",
    "    .median() # сохраняем медиану в отдельную переменную days_employed_dob_years_above_45_median и выводим её"
   ]
  },
  {
   "cell_type": "code",
   "execution_count": 29,
   "id": "6018e7a5",
   "metadata": {},
   "outputs": [
    {
     "data": {
      "text/plain": [
       "2194.0"
      ]
     },
     "execution_count": 29,
     "metadata": {},
     "output_type": "execute_result"
    }
   ],
   "source": [
    "df.loc[df['days_employed'] > 328728, 'days_employed'] = days_employed_dob_years_above_45_median # меняем все большие значения на медианные \n",
    "                                                                                                # той же возрастной категории\n",
    "df['days_employed'].median()  # выводим медиану"
   ]
  },
  {
   "cell_type": "markdown",
   "id": "e5547f79",
   "metadata": {},
   "source": [
    "Медиана не изменилась. Теперь посмотрим, как выглядит распределение занчений отработанных дней относительно возраста клиентов:<a name=\"alloc\"></a>"
   ]
  },
  {
   "cell_type": "code",
   "execution_count": 30,
   "id": "8d0ddc19",
   "metadata": {},
   "outputs": [
    {
     "data": {
      "text/plain": [
       "<AxesSubplot:xlabel='dob_years', ylabel='days_employed'>"
      ]
     },
     "execution_count": 30,
     "metadata": {},
     "output_type": "execute_result"
    },
    {
     "data": {
      "image/png": "[encoded data removed]",
      "text/plain": [
       "<Figure size 432x288 with 1 Axes>"
      ]
     },
     "metadata": {
      "needs_background": "light"
     },
     "output_type": "display_data"
    }
   ],
   "source": [
    "sps.histplot(df, x='dob_years', y='days_employed', log_scale=(False, True))"
   ]
  },
  {
   "cell_type": "markdown",
   "id": "3627dafa",
   "metadata": {},
   "source": [
    "**Промежуточный итог обработки** `days_employed`:\n",
    "* в целом, распределение отработанных дней прямо пропорциональна возрасту клиентов;\n",
    "* четко выражена медиана;\n",
    "* видны значения при возрасте около нуля, займемся обработкой этих значений далее.\n",
    "\n",
    "\n",
    "Со столбцом `days_employed` можно закночить и пойти дальше."
   ]
  },
  {
   "cell_type": "markdown",
   "id": "5e58f477-66da-45df-ba04-fafa602b0d48",
   "metadata": {},
   "source": [
    " #### Возраст клиента в годах - `dob_years`"
   ]
  },
  {
   "cell_type": "markdown",
   "id": "0bb563bd",
   "metadata": {},
   "source": [
    "Выведем количество уникальных значений столбца `dob_years`:"
   ]
  },
  {
   "cell_type": "code",
   "execution_count": 31,
   "id": "24522eaf",
   "metadata": {},
   "outputs": [
    {
     "data": {
      "text/plain": [
       "array([ 0, 19, 20, 21, 22, 23, 24, 25, 26, 27, 28, 29, 30, 31, 32, 33, 34,\n",
       "       35, 36, 37, 38, 39, 40, 41, 42, 43, 44, 45, 46, 47, 48, 49, 50, 51,\n",
       "       52, 53, 54, 55, 56, 57, 58, 59, 60, 61, 62, 63, 64, 65, 66, 67, 68,\n",
       "       69, 70, 71, 72, 73, 74, 75])"
      ]
     },
     "execution_count": 31,
     "metadata": {},
     "output_type": "execute_result"
    }
   ],
   "source": [
    "df['dob_years'].sort_values().unique() # выводим отсортированные по возрастанию уникальные значения `dob_years`"
   ]
  },
  {
   "cell_type": "markdown",
   "id": "a6a45113",
   "metadata": {},
   "source": [
    "Подсчитаем количество записей, где `dob_years` равно нулю, и долю этих значений (в процентах) относительно общего количества записей таблицы:"
   ]
  },
  {
   "cell_type": "code",
   "execution_count": 32,
   "id": "b0699a3b",
   "metadata": {},
   "outputs": [
    {
     "name": "stdout",
     "output_type": "stream",
     "text": [
      "Количество записей, где возраст клиента ноль равно: 101, \n",
      "что составляет 0.469222%\n"
     ]
    }
   ],
   "source": [
    "print(f\"\"\"Количество записей, где возраст клиента ноль равно: {df[df['dob_years'] == 0]['dob_years'].count()}, \n",
    "что составляет {(df[df['dob_years'] == 0]['dob_years'].count() / len(df)):%}\"\"\")"
   ]
  },
  {
   "cell_type": "markdown",
   "id": "4e6f3391",
   "metadata": {},
   "source": [
    "Эти данные составляют меньше 0.5% от общего количества записей датафрейма. Этими значениями можно принебречь в нашем исследовании. \n",
    "\n",
    "Удалим эти строки."
   ]
  },
  {
   "cell_type": "code",
   "execution_count": 33,
   "id": "d81f24f0",
   "metadata": {},
   "outputs": [],
   "source": [
    "df = df[df['dob_years'] != 0] # сохраняем датафрейм, заменяее его им же, в котором `dob_years` не ноль"
   ]
  },
  {
   "cell_type": "markdown",
   "id": "4a3b105d",
   "metadata": {},
   "source": [
    "Перейдем к следующему столбцу.\n",
    "#### Образование -  `education`. \n",
    "Посмотрим, какие уникальные значения хранит этот столбец."
   ]
  },
  {
   "cell_type": "code",
   "execution_count": 34,
   "id": "87c3a24c",
   "metadata": {},
   "outputs": [
    {
     "data": {
      "text/plain": [
       "array(['высшее', 'среднее', 'Среднее', 'СРЕДНЕЕ', 'ВЫСШЕЕ',\n",
       "       'неоконченное высшее', 'начальное', 'Высшее',\n",
       "       'НЕОКОНЧЕННОЕ ВЫСШЕЕ', 'Неоконченное высшее', 'НАЧАЛЬНОЕ',\n",
       "       'Начальное', 'Ученая степень', 'УЧЕНАЯ СТЕПЕНЬ', 'ученая степень'],\n",
       "      dtype=object)"
      ]
     },
     "execution_count": 34,
     "metadata": {},
     "output_type": "execute_result"
    }
   ],
   "source": [
    "df['education'].unique() # выводим уникальные значения `education`"
   ]
  },
  {
   "cell_type": "markdown",
   "id": "273fcc69",
   "metadata": {},
   "source": [
    "В столбце имеются значения в разном регистре, приведем их к нижнему регистру:"
   ]
  },
  {
   "cell_type": "code",
   "execution_count": 35,
   "id": "c9253ab3",
   "metadata": {},
   "outputs": [
    {
     "data": {
      "text/plain": [
       "array(['высшее', 'среднее', 'неоконченное высшее', 'начальное',\n",
       "       'ученая степень'], dtype=object)"
      ]
     },
     "execution_count": 35,
     "metadata": {},
     "output_type": "execute_result"
    }
   ],
   "source": [
    "df['education'] = df['education'].str.lower() # приводим все значения в `education` к нижнему регистру\n",
    "df['education'].unique()                      # и выводим полученные значения"
   ]
  },
  {
   "cell_type": "markdown",
   "id": "bee7a367",
   "metadata": {},
   "source": [
    "Данные выглядят корректно. Переходим к столбцу `education_id`. Посмотрим, какие значения содержит он."
   ]
  },
  {
   "cell_type": "code",
   "execution_count": 36,
   "id": "87f5bae2",
   "metadata": {},
   "outputs": [
    {
     "data": {
      "text/plain": [
       "array([0, 1, 2, 3, 4])"
      ]
     },
     "execution_count": 36,
     "metadata": {},
     "output_type": "execute_result"
    }
   ],
   "source": [
    "df['education_id'].unique() # выводим уникальные значения `education_id`"
   ]
  },
  {
   "cell_type": "markdown",
   "id": "8f05d87f",
   "metadata": {},
   "source": [
    "Этот столбец, по всей видимости, хранит категориальные данные. Количество уникальных элементов `education` равно количеству уникальныхъ элементов `education_id`.\n",
    "Проверим это предположение позже на  [*этапе обработки категориальных данных*](#analis)."
   ]
  },
  {
   "cell_type": "markdown",
   "id": "e8b64383",
   "metadata": {},
   "source": [
    "Посмотрим на следующий столбец.\n",
    "\n",
    "#### Сеейный статус - `family_status`. \n",
    "Найдем уникальные значения этого столбца:"
   ]
  },
  {
   "cell_type": "code",
   "execution_count": 37,
   "id": "81065bd9",
   "metadata": {},
   "outputs": [
    {
     "data": {
      "text/plain": [
       "array(['женат / замужем', 'гражданский брак', 'вдовец / вдова',\n",
       "       'в разводе', 'Не женат / не замужем'], dtype=object)"
      ]
     },
     "execution_count": 37,
     "metadata": {},
     "output_type": "execute_result"
    }
   ],
   "source": [
    "df['family_status'].unique() # выводим уникальные значения `family_status` - семейный статус"
   ]
  },
  {
   "cell_type": "markdown",
   "id": "4993b7fe",
   "metadata": {},
   "source": [
    "В этом столбце есть значение, которое начинается с заглавной буквы - *`Не женат / не замужем`*. В остальном аномалий нет.<br>\n",
    "Приведем все значения столбца к нижнему регистру:"
   ]
  },
  {
   "cell_type": "code",
   "execution_count": 38,
   "id": "353f95bd",
   "metadata": {},
   "outputs": [
    {
     "data": {
      "text/plain": [
       "array(['женат / замужем', 'гражданский брак', 'вдовец / вдова',\n",
       "       'в разводе', 'не женат / не замужем'], dtype=object)"
      ]
     },
     "execution_count": 38,
     "metadata": {},
     "output_type": "execute_result"
    }
   ],
   "source": [
    "df['family_status'] = df['family_status'].str.lower() # Приводим `family_status` к нижнему регистру\n",
    "df['family_status'].unique()                          # Проверяем результат - выводим уникальные значения столбца"
   ]
  },
  {
   "cell_type": "markdown",
   "id": "0154bec7",
   "metadata": {},
   "source": [
    "Перейдем к следующему столбцу - `family_status_id`. Посмотрим на его уникальные значения:"
   ]
  },
  {
   "cell_type": "code",
   "execution_count": 39,
   "id": "fc61dbff",
   "metadata": {},
   "outputs": [
    {
     "data": {
      "text/plain": [
       "array([0, 1, 2, 3, 4])"
      ]
     },
     "execution_count": 39,
     "metadata": {},
     "output_type": "execute_result"
    }
   ],
   "source": [
    "df['family_status_id'].unique() # выводим уникальные значения столбца `family_status_id`"
   ]
  },
  {
   "cell_type": "markdown",
   "id": "6318cf8d",
   "metadata": {},
   "source": [
    "Этот столбец, по всей видимости, хранит категориальные данные. Количество уникальных элементов `family_status` равно количеству уникальныхъ элементов `family_status_id`.\n",
    "Проверим это предположение *[позже](#analis)*."
   ]
  },
  {
   "cell_type": "markdown",
   "id": "e88f0a44",
   "metadata": {},
   "source": [
    "Далее, проверим следующий столбец\n",
    "#### Пол клиента - `gender`:"
   ]
  },
  {
   "cell_type": "code",
   "execution_count": 40,
   "id": "a47e9023",
   "metadata": {},
   "outputs": [
    {
     "data": {
      "text/plain": [
       "array(['F', 'M', 'XNA'], dtype=object)"
      ]
     },
     "execution_count": 40,
     "metadata": {},
     "output_type": "execute_result"
    }
   ],
   "source": [
    "df['gender'].unique() # выводим уникальные значения столбца `gender`"
   ]
  },
  {
   "cell_type": "markdown",
   "id": "3f33b654",
   "metadata": {},
   "source": [
    "Уникальных значений три: с *`F`* и *`M`* всё понятно, но есть неопределенный *`XNA`*. Посомтрим, сколько таких гендеров:"
   ]
  },
  {
   "cell_type": "code",
   "execution_count": 41,
   "id": "8d5fbbe5",
   "metadata": {},
   "outputs": [
    {
     "data": {
      "text/plain": [
       "F      14164\n",
       "M       7259\n",
       "XNA        1\n",
       "Name: gender, dtype: int64"
      ]
     },
     "execution_count": 41,
     "metadata": {},
     "output_type": "execute_result"
    }
   ],
   "source": [
    "df['gender'].value_counts() # подсчет количества уникальных значений столбца `gender`"
   ]
  },
  {
   "cell_type": "markdown",
   "id": "8004d113",
   "metadata": {},
   "source": [
    "Такой гендер *`XNA`* всего один, это явно случайная аномалия, можно этим значением принебречь.\n",
    "\n",
    "Удалим строку с этим значением датасета, на результат исследования одна запись не повлияет:"
   ]
  },
  {
   "cell_type": "code",
   "execution_count": 42,
   "id": "b4c026e8",
   "metadata": {},
   "outputs": [],
   "source": [
    "df = df[df['gender'] != 'XNA'] # заменяем текущий датафрейм тем же, в котором нет гендера 'XNA'"
   ]
  },
  {
   "cell_type": "markdown",
   "id": "b38923d0",
   "metadata": {},
   "source": [
    "Выведем уникальные значения следующего столбца :\n",
    "#### Источник дохода - `income_type`"
   ]
  },
  {
   "cell_type": "code",
   "execution_count": 43,
   "id": "669071f9",
   "metadata": {},
   "outputs": [
    {
     "data": {
      "text/plain": [
       "array(['сотрудник', 'пенсионер', 'компаньон', 'госслужащий',\n",
       "       'безработный', 'предприниматель', 'студент', 'в декрете'],\n",
       "      dtype=object)"
      ]
     },
     "execution_count": 43,
     "metadata": {},
     "output_type": "execute_result"
    }
   ],
   "source": [
    "df['income_type'].unique() # выводим уникальные значения столбца `income_type`"
   ]
  },
  {
   "cell_type": "markdown",
   "id": "8dd75d44",
   "metadata": {},
   "source": [
    "С этим столбцом всё в порядке. Перейдем дальше. \n",
    "#### `debt` - наличие задолженности:\n",
    "Выведем его:"
   ]
  },
  {
   "cell_type": "code",
   "execution_count": 44,
   "id": "ea325b23",
   "metadata": {},
   "outputs": [
    {
     "data": {
      "text/plain": [
       "array([0, 1])"
      ]
     },
     "execution_count": 44,
     "metadata": {},
     "output_type": "execute_result"
    }
   ],
   "source": [
    "df['debt'].unique() # выводим уникальные значения столбца `debt`"
   ]
  },
  {
   "cell_type": "markdown",
   "id": "6db87e9a",
   "metadata": {},
   "source": [
    "Очевидно, что это категориальные данные, которые показывают, есть ли задолженность у клиента банка. С этим столбцом всё в порядке."
   ]
  },
  {
   "cell_type": "markdown",
   "id": "26bd2fff",
   "metadata": {},
   "source": [
    "Мы избавились от артефактов и аномалий во всех категориальных данных. Вернемся к поиску пропусков и аномалий в столбце `total_income`"
   ]
  },
  {
   "cell_type": "markdown",
   "id": "58cefdb0",
   "metadata": {},
   "source": [
    "### Поиск пропусков в столбце `total_income` <a name=\"na_find_total_income\"> </a>"
   ]
  },
  {
   "cell_type": "markdown",
   "id": "c6ffbe53-006e-46e3-98ab-f3a670fbe8fe",
   "metadata": {},
   "source": [
    "Вернемся к столбцу `total_income`, чтобы подробно заняться пропуском данных в этом столбце. Теперь нам будет легче - мы избавились от пропусков, артефактов и аномалий в остальных столбцах."
   ]
  },
  {
   "cell_type": "markdown",
   "id": "80ac9d99",
   "metadata": {},
   "source": [
    "Обратим внимание на столбец - `total_income`. В главе [Обзор данных](#data_overview) мы видели, что в столбце `total_income` присутствуют пустые значения."
   ]
  },
  {
   "cell_type": "code",
   "execution_count": 45,
   "id": "de1f1367",
   "metadata": {},
   "outputs": [
    {
     "data": {
      "text/plain": [
       "14585    20667.263793\n",
       "13006    21205.280566\n",
       "16174    21367.648356\n",
       "1598     21695.101789\n",
       "14276    21895.614355\n",
       "             ...     \n",
       "21489             NaN\n",
       "21495             NaN\n",
       "21497             NaN\n",
       "21502             NaN\n",
       "21510             NaN\n",
       "Name: total_income, Length: 21423, dtype: float64"
      ]
     },
     "execution_count": 45,
     "metadata": {},
     "output_type": "execute_result"
    }
   ],
   "source": [
    "df['total_income'].sort_values()"
   ]
  },
  {
   "cell_type": "markdown",
   "id": "60a070d0",
   "metadata": {},
   "source": [
    "В столбце есть только положительные значения. Приведем их к типу *integer*:"
   ]
  },
  {
   "cell_type": "code",
   "execution_count": 46,
   "id": "130e7084",
   "metadata": {},
   "outputs": [],
   "source": [
    "df['total_income'] = pd.to_numeric(round(df['total_income'])) # округляем `total_income` и приводим его к целым значениям"
   ]
  },
  {
   "cell_type": "markdown",
   "id": "fa66c5dd",
   "metadata": {},
   "source": [
    "Поскольку трудно найти взаимосвязь между ежемесячным доходом и другими данными, представленными в таблицы (это тема для отдельного исследования), заменим пропущенные значения медианным.\n",
    "Посмотрим, как повлияет на столбец `total_income` замена пустых значений на медианное.\n",
    "\n",
    "Построим график распределения ежемесячного дохода относительно количества записей и выделим отдельно медианное значение:"
   ]
  },
  {
   "cell_type": "code",
   "execution_count": 47,
   "id": "b053a80b",
   "metadata": {},
   "outputs": [
    {
     "data": {
      "text/plain": [
       "<matplotlib.lines.Line2D at 0x7ff6055e5ac0>"
      ]
     },
     "execution_count": 47,
     "metadata": {},
     "output_type": "execute_result"
    },
    {
     "data": {
      "image/png": "[encoded data removed]",
      "text/plain": [
       "<Figure size 432x288 with 1 Axes>"
      ]
     },
     "metadata": {
      "needs_background": "light"
     },
     "output_type": "display_data"
    }
   ],
   "source": [
    "sps.histplot(data=df, x='total_income', kde = True) # строим распределение ежемесячного дохода (x) относительно количества таких значений (y - по умолчанию count)\n",
    "plt.axvline(df['total_income'].median(), color='red') # нарисуем там же красную вертикальную линию с медианным значением дохода"
   ]
  },
  {
   "cell_type": "markdown",
   "id": "5c7c575f",
   "metadata": {},
   "source": []
  },
  {
   "cell_type": "markdown",
   "id": "b942499e",
   "metadata": {},
   "source": [
    "Попробуем найти зависимость пропущенных значений столбца `total_income` от категориальных данных остальной таблицы:"
   ]
  },
  {
   "cell_type": "code",
   "execution_count": 48,
   "id": "9430910c",
   "metadata": {},
   "outputs": [
    {
     "data": {
      "text/plain": [
       "education\n",
       "высшее                  541\n",
       "начальное                21\n",
       "неоконченное высшее      69\n",
       "среднее                1533\n",
       "Name: education, dtype: int64"
      ]
     },
     "execution_count": 48,
     "metadata": {},
     "output_type": "execute_result"
    }
   ],
   "source": [
    "df[df['total_income'].isna()].groupby('education')['education'].count() # среди строк, где 'total_income' пропущен, группируем и \n",
    "                                                                        # считаем количество по категории `education`"
   ]
  },
  {
   "cell_type": "markdown",
   "id": "ad2adc31",
   "metadata": {},
   "source": [
    "Большинство клиентов, у которых пропущен ежемесячный доход - со средним и высшим образованием. Идем дальше."
   ]
  },
  {
   "cell_type": "code",
   "execution_count": 49,
   "id": "bd7c7456",
   "metadata": {},
   "outputs": [
    {
     "data": {
      "text/plain": [
       "family_status\n",
       "в разводе                 111\n",
       "вдовец / вдова             94\n",
       "гражданский брак          439\n",
       "женат / замужем          1233\n",
       "не женат / не замужем     287\n",
       "Name: family_status, dtype: int64"
      ]
     },
     "execution_count": 49,
     "metadata": {},
     "output_type": "execute_result"
    }
   ],
   "source": [
    "df[df['total_income'].isna()].groupby('family_status')['family_status'].count() # среди строк, где 'total_income' пропущен, группируем и \n",
    "                                                                                # считаем количество по категории `family_status`"
   ]
  },
  {
   "cell_type": "markdown",
   "id": "4f0aee92",
   "metadata": {},
   "source": [
    "Большинство из тех, у кого пропущено значение с ежемесячным доходом - женаты или в гражданском браке."
   ]
  },
  {
   "cell_type": "code",
   "execution_count": 50,
   "id": "ba9d62b0",
   "metadata": {},
   "outputs": [
    {
     "data": {
      "text/plain": [
       "gender\n",
       "F    1476\n",
       "M     688\n",
       "Name: gender, dtype: int64"
      ]
     },
     "execution_count": 50,
     "metadata": {},
     "output_type": "execute_result"
    }
   ],
   "source": [
    "df[df['total_income'].isna()].groupby('gender')['gender'].count() # среди строк, где 'total_income' пропущен, группируем и \n",
    "                                                                  # считаем количество по категории `gender`"
   ]
  },
  {
   "cell_type": "markdown",
   "id": "fbeb0aa2",
   "metadata": {},
   "source": [
    "И это в основном женщины. Но какое соотношение мужчин и женщин во всей таблице:"
   ]
  },
  {
   "cell_type": "code",
   "execution_count": 51,
   "id": "475f4908-26cb-42eb-8e8e-7951acfdca26",
   "metadata": {},
   "outputs": [
    {
     "data": {
      "text/plain": [
       "gender\n",
       "F    14164\n",
       "M     7259\n",
       "Name: gender, dtype: int64"
      ]
     },
     "execution_count": 51,
     "metadata": {},
     "output_type": "execute_result"
    }
   ],
   "source": [
    "df.groupby('gender')['gender'].count() # подсчитаем общее количество мужчин и женщин в датафрейме"
   ]
  },
  {
   "cell_type": "markdown",
   "id": "4db98194-5c11-46bc-8977-ccf5dcf0d986",
   "metadata": {},
   "source": [
    "И тут перевес примерно 2:1, как и в нулевых значениях. На этот параметр опираться не будем."
   ]
  },
  {
   "cell_type": "markdown",
   "id": "b5cd2f11-c455-4596-86a8-c67e5fc2a9af",
   "metadata": {},
   "source": [
    "Ещё одна категория: тип дохода - `income_type`. <br>\n",
    "Подсчитаем, у клиентов каких типов источников дохода отсутствуют данные о доходе.<br>\n",
    "Выведем общую таблицу:"
   ]
  },
  {
   "cell_type": "code",
   "execution_count": 52,
   "id": "7e2c2ca4-a913-4e91-b237-328b7b8218bf",
   "metadata": {},
   "outputs": [
    {
     "data": {
      "text/html": [
       "<div>\n",
       "<style scoped>\n",
       "    .dataframe tbody tr th:only-of-type {\n",
       "        vertical-align: middle;\n",
       "    }\n",
       "\n",
       "    .dataframe tbody tr th {\n",
       "        vertical-align: top;\n",
       "    }\n",
       "\n",
       "    .dataframe thead th {\n",
       "        text-align: right;\n",
       "    }\n",
       "</style>\n",
       "<table border=\"1\" class=\"dataframe\">\n",
       "  <thead>\n",
       "    <tr style=\"text-align: right;\">\n",
       "      <th></th>\n",
       "      <th>Пропущенные</th>\n",
       "      <th>Всего</th>\n",
       "    </tr>\n",
       "    <tr>\n",
       "      <th>income_type</th>\n",
       "      <th></th>\n",
       "      <th></th>\n",
       "    </tr>\n",
       "  </thead>\n",
       "  <tbody>\n",
       "    <tr>\n",
       "      <th>госслужащий</th>\n",
       "      <td>147.0</td>\n",
       "      <td>1453</td>\n",
       "    </tr>\n",
       "    <tr>\n",
       "      <th>компаньон</th>\n",
       "      <td>506.0</td>\n",
       "      <td>5064</td>\n",
       "    </tr>\n",
       "    <tr>\n",
       "      <th>пенсионер</th>\n",
       "      <td>410.0</td>\n",
       "      <td>3836</td>\n",
       "    </tr>\n",
       "    <tr>\n",
       "      <th>предприниматель</th>\n",
       "      <td>1.0</td>\n",
       "      <td>2</td>\n",
       "    </tr>\n",
       "    <tr>\n",
       "      <th>сотрудник</th>\n",
       "      <td>1100.0</td>\n",
       "      <td>11064</td>\n",
       "    </tr>\n",
       "    <tr>\n",
       "      <th>безработный</th>\n",
       "      <td>NaN</td>\n",
       "      <td>2</td>\n",
       "    </tr>\n",
       "    <tr>\n",
       "      <th>в декрете</th>\n",
       "      <td>NaN</td>\n",
       "      <td>1</td>\n",
       "    </tr>\n",
       "    <tr>\n",
       "      <th>студент</th>\n",
       "      <td>NaN</td>\n",
       "      <td>1</td>\n",
       "    </tr>\n",
       "  </tbody>\n",
       "</table>\n",
       "</div>"
      ],
      "text/plain": [
       "                 Пропущенные  Всего\n",
       "income_type                        \n",
       "госслужащий            147.0   1453\n",
       "компаньон              506.0   5064\n",
       "пенсионер              410.0   3836\n",
       "предприниматель          1.0      2\n",
       "сотрудник             1100.0  11064\n",
       "безработный              NaN      2\n",
       "в декрете                NaN      1\n",
       "студент                  NaN      1"
      ]
     },
     "execution_count": 52,
     "metadata": {},
     "output_type": "execute_result"
    }
   ],
   "source": [
    "# создадим Series с количеством пропущенных значений `total_income` по источникам дохода `income_type`\n",
    "sr_income_type_missed = df[df['total_income'].isna()].groupby('income_type')['income_type'].count()\n",
    "# создадим Series с общим количеством `total_income` по источникам дохода `income_type`\n",
    "sr_income_type_total = df.groupby('income_type')['income_type'].count()\n",
    "\n",
    "# соединим оба объекта по общему индексу:\n",
    "pd.concat([sr_income_type_missed, sr_income_type_total], axis=1, keys=['Пропущенные', 'Всего'])"
   ]
  },
  {
   "cell_type": "markdown",
   "id": "097a6624-11bc-491b-ba1c-6844581936fe",
   "metadata": {},
   "source": [
    "Видуализируем для наглядности:"
   ]
  },
  {
   "cell_type": "code",
   "execution_count": 53,
   "id": "4e64017f-e9ef-481d-a88b-5e3e680cbfe2",
   "metadata": {},
   "outputs": [
    {
     "data": {
      "text/plain": [
       "<AxesSubplot:xlabel='income_type', ylabel='Count'>"
      ]
     },
     "execution_count": 53,
     "metadata": {},
     "output_type": "execute_result"
    },
    {
     "data": {
      "image/png": "[encoded data removed]",
      "text/plain": [
       "<Figure size 432x288 with 1 Axes>"
      ]
     },
     "metadata": {
      "needs_background": "light"
     },
     "output_type": "display_data"
    }
   ],
   "source": [
    "# сначала нарисуем диаграмму распределения количества пропущенных значений `total_income` по категориям\n",
    "sps.histplot(df[df['total_income'].isna()]['income_type']) \n",
    "# поверх неё нарисуем еще одну, где уже всё количество пропущенных значений `total_income` по категориям,\n",
    "# включим логарифмическую шкалу и оставим столбики незаполненными для нагляднсти\n",
    "sps.histplot(df['income_type'], log_scale=(False, True), fill=False)"
   ]
  },
  {
   "cell_type": "markdown",
   "id": "c2cb8313-a7b9-4e02-b504-699a4ba3886e",
   "metadata": {},
   "source": [
    "Получается, среди пропущенных значений распределение по категории \"источник дохода\" - такое же, как и во всём датафрейме. Пропущенных значений примерно в 10 раз меньше по всем категориям, и ни одна не выделяется\n",
    "\n",
    "Полученную нами информацию можно использовать для заполнения пустых значений датафрейма медианными по каждой категории дохода."
   ]
  },
  {
   "cell_type": "markdown",
   "id": "40b38f92-9594-40c7-9a54-eae5971b3d7e",
   "metadata": {},
   "source": [
    "Попробуем создать еще один столбец `total_income_fill_by_type`, в который войдут медианные значения по источнику дохода:"
   ]
  },
  {
   "cell_type": "code",
   "execution_count": 54,
   "id": "eee9948e-26c7-4912-bcc2-eb03fed75215",
   "metadata": {},
   "outputs": [],
   "source": [
    "df['total_income_fill_by_type'] = df.groupby(['income_type'])['total_income'] \\\n",
    "    .apply(lambda x: x.fillna(x.median())) # группируем таблицу по типу дохода, \n",
    "                                    # суммируя общий доход по каждому типу, применяем лямбда функцию с заполнением\n",
    "                                    # каждого пропущенного значения медианным для своей категории рода деятельности"
   ]
  },
  {
   "cell_type": "markdown",
   "id": "a4d6fb80-ad94-47f7-bc56-f76472b20495",
   "metadata": {},
   "source": [
    "Попробуем подсчитать по количественному параметру `dob_years` - возраст клиента в годах. Для визуализации результатов построим столбчатую диаграмму распределения"
   ]
  },
  {
   "cell_type": "code",
   "execution_count": 55,
   "id": "7ab3fcf5",
   "metadata": {},
   "outputs": [
    {
     "data": {
      "text/plain": [
       "<AxesSubplot:xlabel='dob_years', ylabel='Count'>"
      ]
     },
     "execution_count": 55,
     "metadata": {},
     "output_type": "execute_result"
    },
    {
     "data": {
      "image/png": "[encoded data removed]",
      "text/plain": [
       "<Figure size 432x288 with 1 Axes>"
      ]
     },
     "metadata": {
      "needs_background": "light"
     },
     "output_type": "display_data"
    }
   ],
   "source": [
    "sps.histplot(df[df['total_income'].isna()]['dob_years']) # среди строк, где 'total_income' пропущен, визуализируем по категории `dob_years`"
   ]
  },
  {
   "cell_type": "markdown",
   "id": "81b84a8a",
   "metadata": {},
   "source": [
    "Большинство из тех, к у кого не заполнен ежемесячный доход - люди в возрасте примерно от 30 до 60 лет (от 0 до 20 люди в основном нетрудоспособные, количество пропущенных значений для людей от 20 до 30 лет невелико)."
   ]
  },
  {
   "cell_type": "markdown",
   "id": "88757d16",
   "metadata": {},
   "source": [
    "Теперь подсчитаем медианное значение по столбцу `total_income` с учетом следующих параметров:\n",
    "* образование среднее или высшее;\n",
    "* женат или в гражданском браке;\n",
    "* возраст от 30 до 60 лет."
   ]
  },
  {
   "cell_type": "code",
   "execution_count": 56,
   "id": "b64472f8",
   "metadata": {},
   "outputs": [
    {
     "data": {
      "text/plain": [
       "143503.0"
      ]
     },
     "execution_count": 56,
     "metadata": {},
     "output_type": "execute_result"
    }
   ],
   "source": [
    "total_income_params_median = df[((df['education'] == 'среднее') | (df['education'] == 'высшее')  \n",
    "    & ((df['family_status'] == 'женат / замужем') | (df['family_status'] == 'гражданский брак')\n",
    "    & (df['dob_years'] > 30) \n",
    "    & (df['dob_years'] < 60)))]['total_income'].median() # медиана с учетом всех выявленных закономерностей\n",
    "\n",
    "total_income_params_median"
   ]
  },
  {
   "cell_type": "markdown",
   "id": "a5d241d8",
   "metadata": {},
   "source": [
    "Выведем медианное значение ежемесячного дохода всей таблицы:"
   ]
  },
  {
   "cell_type": "code",
   "execution_count": 57,
   "id": "2855b69f",
   "metadata": {},
   "outputs": [
    {
     "data": {
      "text/plain": [
       "145005.0"
      ]
     },
     "execution_count": 57,
     "metadata": {},
     "output_type": "execute_result"
    }
   ],
   "source": [
    "df['total_income'].median()"
   ]
  },
  {
   "cell_type": "markdown",
   "id": "e468c347",
   "metadata": {},
   "source": [
    "Медиана `total_income` всего датафрейма не сильно отличается от медианы, найденной нами с учетом заданных параметров.\n",
    "Значит, пропущенные данные носят случайный характер и по своим характеристикам близки к медианным значениям."
   ]
  },
  {
   "cell_type": "markdown",
   "id": "aa31a426",
   "metadata": {},
   "source": [
    "Теперь создадим новый столбец `total_income_params`, в котором будут все значения из `total_income`, а пропущенные  значения столбца `total_income` будут медианным по тем параметрам, которые мы нашли выше.\n",
    "\n",
    "Построим графики распределения для двух столбцов `total_income_params` и `total_income_fill_by_type`.<br>\n",
    "Посмотрим, как сильно повлияла замена значений ежемесячного дохода на медианное:"
   ]
  },
  {
   "cell_type": "code",
   "execution_count": 58,
   "id": "7db2101d",
   "metadata": {},
   "outputs": [],
   "source": [
    "df['total_income_params'] = df['total_income'].fillna(total_income_params_median) # заполняем пропуски столбца `total_income` медианным значением"
   ]
  },
  {
   "cell_type": "markdown",
   "id": "6a34d6a7-46d5-4c01-8599-eaab05cab10b",
   "metadata": {},
   "source": [
    "Сначала построим график распределения значений для столбца `total_income_params`, а также отдельно количество медианных значений (в виде вертикальной прямой)."
   ]
  },
  {
   "cell_type": "code",
   "execution_count": 59,
   "id": "baac71e7",
   "metadata": {},
   "outputs": [
    {
     "data": {
      "text/plain": [
       "<matplotlib.lines.Line2D at 0x7ff604dd1d60>"
      ]
     },
     "execution_count": 59,
     "metadata": {},
     "output_type": "execute_result"
    },
    {
     "data": {
      "image/png": "[encoded data removed]",
      "text/plain": [
       "<Figure size 432x288 with 1 Axes>"
      ]
     },
     "metadata": {
      "needs_background": "light"
     },
     "output_type": "display_data"
    }
   ],
   "source": [
    "sps.histplot(data=df, x='total_income_params', kde = True) # строим распределение ежемесячного дохода (x) относительно количества таких значений \n",
    "# (y - по умолчанию count) по столбцу `total_income_params`\n",
    "\n",
    "plt.axvline(df['total_income_params'].median(), color='red') # проводим красную вертикальную линию - медианное значение ежемесячного дохода"
   ]
  },
  {
   "cell_type": "markdown",
   "id": "3aa20125",
   "metadata": {},
   "source": [
    "Медианное изменило распределение, сильно выделившись по количеству значений. Однако, ширина распределения остался такой же."
   ]
  },
  {
   "cell_type": "markdown",
   "id": "31e066b6-7b84-4c06-83c7-14f5b14e8951",
   "metadata": {},
   "source": [
    "Теперь сделаем тоже самое по столбцу `total_income_fill_by_type`:"
   ]
  },
  {
   "cell_type": "code",
   "execution_count": 60,
   "id": "034b2566-c341-4973-8b29-111ba56d5abb",
   "metadata": {},
   "outputs": [
    {
     "data": {
      "text/plain": [
       "<matplotlib.lines.Line2D at 0x7ff604779cd0>"
      ]
     },
     "execution_count": 60,
     "metadata": {},
     "output_type": "execute_result"
    },
    {
     "data": {
      "image/png": "[encoded data removed]",
      "text/plain": [
       "<Figure size 432x288 with 1 Axes>"
      ]
     },
     "metadata": {
      "needs_background": "light"
     },
     "output_type": "display_data"
    }
   ],
   "source": [
    "sps.histplot(data=df, x='total_income_fill_by_type', kde = True) # строим распределение ежемесячного дохода (x) относительно количества таких значений \n",
    "# (y - по умолчанию count) - по столбцу `total_income_fill_by_type`\n",
    "\n",
    "plt.axvline(df['total_income_fill_by_type'].median(), color='red') # проводим красную вертикальную линию - медианное значение ежемесячного дохода"
   ]
  },
  {
   "cell_type": "markdown",
   "id": "ad8189f8-e068-49a9-80e8-79f70879c7b8",
   "metadata": {},
   "source": [
    "Этот график распределения по столбцу `total_income_fill_by_type` больше приближен к оригинальному до преобразований, количество медианных значений почти в 2 раза меньше аналогичного количества в столбце `total_income_params`"
   ]
  },
  {
   "cell_type": "markdown",
   "id": "1f60aafb-b4f7-4163-8599-6ac8dcbe4377",
   "metadata": {},
   "source": [
    "Мы нашли подходящий метод заполнения пропусков, временные столбцы больше не нужны. <br>\n",
    "Теперь удалим `total_income_params` и `total_income_fill_by_type`, а пустые значения столбца `total_income` заполним медианными значениями для каждой категории источника дохода (роду деятельности) клиента, поскольку они меньше портят общую картину значений, не выделяют так сильно медиану.\n",
    "Применим к `total_income` те же действия, что и при объявлении столбца `total_income_fill_by_type`"
   ]
  },
  {
   "cell_type": "code",
   "execution_count": 61,
   "id": "f7f2c9b9-2fdd-4513-a6e0-ca08b4974e63",
   "metadata": {},
   "outputs": [],
   "source": [
    "# удаляем временные столбцы.\n",
    "df.drop(columns=['total_income_params', 'total_income_fill_by_type'], axis=1, inplace=True)\n",
    "\n",
    "df['total_income'] = df.groupby(['income_type'])['total_income'] \\\n",
    "    .apply(lambda x: x.fillna(x.median())) # группируем таблицу по типу дохода, \n",
    "                                    # суммируя общий доход по каждому типу, применяем лямбда функцию с заполнением\n",
    "                                    # каждого пропущенного значения медианным для своей категории рода деятельности"
   ]
  },
  {
   "cell_type": "markdown",
   "id": "a20663bc",
   "metadata": {},
   "source": [
    "После всех преобразований и применения метода `median()` к столбцу `total_income` приведем его к типу integer:"
   ]
  },
  {
   "cell_type": "code",
   "execution_count": 62,
   "id": "ee0c0807",
   "metadata": {},
   "outputs": [],
   "source": [
    "df['total_income'] = df['total_income'].astype(int) # заменим вещественный тип данных столбца `total_income` на целочисленный"
   ]
  },
  {
   "cell_type": "markdown",
   "id": "d3db2513",
   "metadata": {},
   "source": [
    "Посмотрим на полученную таблицу после всех преобразований:"
   ]
  },
  {
   "cell_type": "code",
   "execution_count": 63,
   "id": "326f25b2",
   "metadata": {},
   "outputs": [
    {
     "data": {
      "text/html": [
       "<div>\n",
       "<style scoped>\n",
       "    .dataframe tbody tr th:only-of-type {\n",
       "        vertical-align: middle;\n",
       "    }\n",
       "\n",
       "    .dataframe tbody tr th {\n",
       "        vertical-align: top;\n",
       "    }\n",
       "\n",
       "    .dataframe thead th {\n",
       "        text-align: right;\n",
       "    }\n",
       "</style>\n",
       "<table border=\"1\" class=\"dataframe\">\n",
       "  <thead>\n",
       "    <tr style=\"text-align: right;\">\n",
       "      <th></th>\n",
       "      <th>children</th>\n",
       "      <th>days_employed</th>\n",
       "      <th>dob_years</th>\n",
       "      <th>education</th>\n",
       "      <th>education_id</th>\n",
       "      <th>family_status</th>\n",
       "      <th>family_status_id</th>\n",
       "      <th>gender</th>\n",
       "      <th>income_type</th>\n",
       "      <th>debt</th>\n",
       "      <th>total_income</th>\n",
       "      <th>purpose</th>\n",
       "    </tr>\n",
       "  </thead>\n",
       "  <tbody>\n",
       "    <tr>\n",
       "      <th>0</th>\n",
       "      <td>1</td>\n",
       "      <td>8438</td>\n",
       "      <td>42</td>\n",
       "      <td>высшее</td>\n",
       "      <td>0</td>\n",
       "      <td>женат / замужем</td>\n",
       "      <td>0</td>\n",
       "      <td>F</td>\n",
       "      <td>сотрудник</td>\n",
       "      <td>0</td>\n",
       "      <td>253876</td>\n",
       "      <td>покупка жилья</td>\n",
       "    </tr>\n",
       "    <tr>\n",
       "      <th>1</th>\n",
       "      <td>1</td>\n",
       "      <td>4025</td>\n",
       "      <td>36</td>\n",
       "      <td>среднее</td>\n",
       "      <td>1</td>\n",
       "      <td>женат / замужем</td>\n",
       "      <td>0</td>\n",
       "      <td>F</td>\n",
       "      <td>сотрудник</td>\n",
       "      <td>0</td>\n",
       "      <td>112080</td>\n",
       "      <td>приобретение автомобиля</td>\n",
       "    </tr>\n",
       "    <tr>\n",
       "      <th>2</th>\n",
       "      <td>0</td>\n",
       "      <td>5623</td>\n",
       "      <td>33</td>\n",
       "      <td>среднее</td>\n",
       "      <td>1</td>\n",
       "      <td>женат / замужем</td>\n",
       "      <td>0</td>\n",
       "      <td>M</td>\n",
       "      <td>сотрудник</td>\n",
       "      <td>0</td>\n",
       "      <td>145886</td>\n",
       "      <td>покупка жилья</td>\n",
       "    </tr>\n",
       "    <tr>\n",
       "      <th>3</th>\n",
       "      <td>3</td>\n",
       "      <td>4125</td>\n",
       "      <td>32</td>\n",
       "      <td>среднее</td>\n",
       "      <td>1</td>\n",
       "      <td>женат / замужем</td>\n",
       "      <td>0</td>\n",
       "      <td>M</td>\n",
       "      <td>сотрудник</td>\n",
       "      <td>0</td>\n",
       "      <td>267629</td>\n",
       "      <td>дополнительное образование</td>\n",
       "    </tr>\n",
       "    <tr>\n",
       "      <th>4</th>\n",
       "      <td>0</td>\n",
       "      <td>2194</td>\n",
       "      <td>53</td>\n",
       "      <td>среднее</td>\n",
       "      <td>1</td>\n",
       "      <td>гражданский брак</td>\n",
       "      <td>1</td>\n",
       "      <td>F</td>\n",
       "      <td>пенсионер</td>\n",
       "      <td>0</td>\n",
       "      <td>158616</td>\n",
       "      <td>сыграть свадьбу</td>\n",
       "    </tr>\n",
       "  </tbody>\n",
       "</table>\n",
       "</div>"
      ],
      "text/plain": [
       "   children  days_employed  dob_years education  education_id  \\\n",
       "0         1           8438         42    высшее             0   \n",
       "1         1           4025         36   среднее             1   \n",
       "2         0           5623         33   среднее             1   \n",
       "3         3           4125         32   среднее             1   \n",
       "4         0           2194         53   среднее             1   \n",
       "\n",
       "      family_status  family_status_id gender income_type  debt  total_income  \\\n",
       "0   женат / замужем                 0      F   сотрудник     0        253876   \n",
       "1   женат / замужем                 0      F   сотрудник     0        112080   \n",
       "2   женат / замужем                 0      M   сотрудник     0        145886   \n",
       "3   женат / замужем                 0      M   сотрудник     0        267629   \n",
       "4  гражданский брак                 1      F   пенсионер     0        158616   \n",
       "\n",
       "                      purpose  \n",
       "0               покупка жилья  \n",
       "1     приобретение автомобиля  \n",
       "2               покупка жилья  \n",
       "3  дополнительное образование  \n",
       "4             сыграть свадьбу  "
      ]
     },
     "execution_count": 63,
     "metadata": {},
     "output_type": "execute_result"
    }
   ],
   "source": [
    "df.head() # выведем первые 5 значений датафрейма"
   ]
  },
  {
   "cell_type": "code",
   "execution_count": 64,
   "id": "d72801cb",
   "metadata": {},
   "outputs": [
    {
     "data": {
      "text/plain": [
       "children            0\n",
       "days_employed       0\n",
       "dob_years           0\n",
       "education           0\n",
       "education_id        0\n",
       "family_status       0\n",
       "family_status_id    0\n",
       "gender              0\n",
       "income_type         0\n",
       "debt                0\n",
       "total_income        0\n",
       "purpose             0\n",
       "dtype: int64"
      ]
     },
     "execution_count": 64,
     "metadata": {},
     "output_type": "execute_result"
    }
   ],
   "source": [
    "df.isna().sum() # подсчитаем сумму пустых значений в таблице"
   ]
  },
  {
   "cell_type": "markdown",
   "id": "776a994f",
   "metadata": {},
   "source": [
    "**Вывод:**  Все столбцы избавлены от аномалий и пустых значений."
   ]
  },
  {
   "cell_type": "markdown",
   "id": "f9dd4da3",
   "metadata": {},
   "source": [
    "### Поиск дубликатов <a name=\"duobl_find\"></a>"
   ]
  },
  {
   "cell_type": "markdown",
   "id": "29f311f0",
   "metadata": {},
   "source": [
    "Посмотрим на столбец `purpose` и выведем его уникальные значения:"
   ]
  },
  {
   "cell_type": "code",
   "execution_count": 65,
   "id": "ad62a101",
   "metadata": {
    "tags": []
   },
   "outputs": [
    {
     "data": {
      "text/plain": [
       "array(['покупка жилья', 'приобретение автомобиля',\n",
       "       'дополнительное образование', 'сыграть свадьбу',\n",
       "       'операции с жильем', 'образование', 'на проведение свадьбы',\n",
       "       'покупка жилья для семьи', 'покупка недвижимости',\n",
       "       'покупка коммерческой недвижимости', 'покупка жилой недвижимости',\n",
       "       'строительство собственной недвижимости', 'недвижимость',\n",
       "       'строительство недвижимости', 'на покупку подержанного автомобиля',\n",
       "       'на покупку своего автомобиля',\n",
       "       'операции с коммерческой недвижимостью',\n",
       "       'строительство жилой недвижимости', 'жилье',\n",
       "       'операции со своей недвижимостью', 'автомобили',\n",
       "       'заняться образованием', 'сделка с подержанным автомобилем',\n",
       "       'получение образования', 'автомобиль', 'свадьба',\n",
       "       'получение дополнительного образования', 'покупка своего жилья',\n",
       "       'операции с недвижимостью', 'получение высшего образования',\n",
       "       'свой автомобиль', 'сделка с автомобилем',\n",
       "       'профильное образование', 'высшее образование',\n",
       "       'покупка жилья для сдачи', 'на покупку автомобиля', 'ремонт жилью',\n",
       "       'заняться высшим образованием'], dtype=object)"
      ]
     },
     "execution_count": 65,
     "metadata": {},
     "output_type": "execute_result"
    }
   ],
   "source": [
    "df['purpose'].unique()"
   ]
  },
  {
   "cell_type": "markdown",
   "id": "204397d0-21c8-4b95-be5a-a7a6c0adaecd",
   "metadata": {},
   "source": [
    "В данных много уникальных значений (хорошо, что все они уже в нижнем регистре и не имеют лишних пробелов, либо аномалий), но они содержат много близких по смыслу значений (например: 'свой автомобиль', 'приобретение автомобиля'). <br>\n",
    "Эти значения представляют собой категории - цели получения кредита. Обработаем их сейчас, чтобы на следующем этапе выявить больше явных дубликатов и удалить их (если уникальных значений в столбце `purpose` будет меньше, то количество возможных дубликатов - больше).\n",
    "\n",
    "Категорий всего четыре:\n",
    "* операции с автомобилем;\n",
    "* операции с недвижимостью;\n",
    "* проведение свадьбы;\n",
    "* получение образования."
   ]
  },
  {
   "cell_type": "markdown",
   "id": "3636abb7",
   "metadata": {
    "tags": []
   },
   "source": [
    "Напишем функцию, которая будет принимать на вход столбец *Series* и словарь, ключами для которого будут категории из списка выше. Функция будет искать в каждом элементе *Series* `df['purpose']` уникальные части слов (по значениям словаря) и менять все значения в столбце `purpose`, перезаписывая их на ключи исходного словаря (категории). "
   ]
  },
  {
   "cell_type": "code",
   "execution_count": 66,
   "id": "f40ed6cd",
   "metadata": {},
   "outputs": [
    {
     "data": {
      "text/plain": [
       "'Код выше закомментирован, вместо него работает следующая Code-ячейка'"
      ]
     },
     "execution_count": 66,
     "metadata": {},
     "output_type": "execute_result"
    }
   ],
   "source": [
    "'''\n",
    "purpose_dict = {'операции с недвижимостью': ['недвиж', 'жил'],\n",
    "                'получение образования': 'образ',\n",
    "                'операции с автомобилем': 'авто',\n",
    "                'проведение свадьбы': 'свадьб'\n",
    "    \n",
    "} # Создаём словарь, в котором ключами будут являться категории - цели получения кредита, а значениями - подстрока, \n",
    "  # по которым становится понятна цель кредита (именно подстрока будет целью поиска в столбце `purpose`)\n",
    "\n",
    "def replace_from_dict(dictionary = {}, series = pd.Series): # объявляем функцию замены значений из словаря в столбце датафрейма\n",
    "    for key in dictionary:   # Создаем цикл для каждого значения ключа в словаре\n",
    "        if type(dictionary.get(key)) == list:        # если значение ключа - список, то\n",
    "            for list_value in dictionary.get(key):   # проходим по всем элементам этого списка значений ключа\n",
    "                df.loc[series.str.contains(list_value), series.name] = key # если строка в столбце содержит значение ключа, \n",
    "                                                                           # то заменяем значение строки на ключ словаря\n",
    "        elif type(dictionary.get(key)) == str:     # иначе если значение ключа - строка, то\n",
    "            df.loc[series.str.contains(dictionary.get(key)), series.name] = key # заменяем значение строки на ключ словаря\n",
    "        else:\n",
    "            return 'Ошибка определения типа значений словаря. Значения могут быть типа <list> или <str> в рамках работы данной функции.'\n",
    "        \n",
    "replace_from_dict(purpose_dict, df['purpose']) # вызываем нашу функцию с параметрами словаря `purpose_dict` и df['purpose'] в качестве столбца.\n",
    "\n",
    "df['purpose'].unique() # выведем уникальные значения столбца df['purpose'], чтобы проверить результат работы функции\n",
    "'''\n",
    "'Код выше закомментирован, вместо него работает следующая Code-ячейка'"
   ]
  },
  {
   "cell_type": "code",
   "execution_count": 67,
   "id": "b111902f-99de-421f-8a53-541b34f6908c",
   "metadata": {
    "tags": []
   },
   "outputs": [
    {
     "data": {
      "text/plain": [
       "array(['операции с недвижимостью', 'операции с автомобилем',\n",
       "       'получение образования', 'проведение свадьбы'], dtype=object)"
      ]
     },
     "execution_count": 67,
     "metadata": {},
     "output_type": "execute_result"
    }
   ],
   "source": [
    "def replace_purpose(purpose):          # функция, возвращающая категорию цели кредита в зависимости от найденных в ней ключевых лексических цепочек\n",
    "    if 'образ' in purpose:\n",
    "        return 'получение образования'\n",
    "    elif 'авто' in purpose:\n",
    "        return 'операции с автомобилем'\n",
    "    elif 'свадьб' in purpose:\n",
    "        return 'проведение свадьбы'\n",
    "    else:\n",
    "        return 'операции с недвижимостью' # если ничего не нашлось, то это операции с недвижимостью (это лаконичнее, чем перечислять ключи 'недвиж', 'жил'\n",
    "\n",
    "df['purpose'] = df['purpose'].apply(replace_purpose)  # применим функцию к каждому элементу столбца 'purpose'\n",
    "\n",
    "df['purpose'].unique() # выведем уникальные значения столбца df['purpose'], чтобы проверить результат работы функции"
   ]
  },
  {
   "cell_type": "markdown",
   "id": "7a75e096",
   "metadata": {},
   "source": [
    "Мы привели значения в столбце `purpose` к единообразному виду."
   ]
  },
  {
   "cell_type": "markdown",
   "id": "ca2076a4",
   "metadata": {},
   "source": [
    "Часть дубликатов найдены нами в ходе работы со столбцом `total_income`, когда мы искали зависимость пустых значений от уровня образования. Тогда было важно привести столбец `education` к единообразному виду, избавившись от дубликатов."
   ]
  },
  {
   "cell_type": "markdown",
   "id": "73551e55",
   "metadata": {},
   "source": [
    "Теперь, после унификации всех уникальных значений во всех столбцах, избавимся от явных дубликатов. Сначала найдем их:"
   ]
  },
  {
   "cell_type": "code",
   "execution_count": 68,
   "id": "9d479ada",
   "metadata": {},
   "outputs": [
    {
     "data": {
      "text/plain": [
       "404"
      ]
     },
     "execution_count": 68,
     "metadata": {},
     "output_type": "execute_result"
    }
   ],
   "source": [
    "df.duplicated().sum() # подсчитаем количество дубликатов в датафрейме"
   ]
  },
  {
   "cell_type": "markdown",
   "id": "03c74ec5",
   "metadata": {},
   "source": [
    "Удалим явные дубликаты, пересоздадим индексы, удалив столбец со значением старых индексов."
   ]
  },
  {
   "cell_type": "code",
   "execution_count": 69,
   "id": "edd22a7f",
   "metadata": {},
   "outputs": [],
   "source": [
    "df = df.drop_duplicates().reset_index(drop=True) # удаляем дубликаты, восстанавливаем индексы и удаляем столбец со старыми индексами"
   ]
  },
  {
   "cell_type": "markdown",
   "id": "64c169f3",
   "metadata": {},
   "source": [
    "Посмотрим информацию о таблице после всей предварительной обработки:"
   ]
  },
  {
   "cell_type": "code",
   "execution_count": 70,
   "id": "f62977dc",
   "metadata": {},
   "outputs": [
    {
     "name": "stdout",
     "output_type": "stream",
     "text": [
      "<class 'pandas.core.frame.DataFrame'>\n",
      "RangeIndex: 21019 entries, 0 to 21018\n",
      "Data columns (total 12 columns):\n",
      " #   Column            Non-Null Count  Dtype \n",
      "---  ------            --------------  ----- \n",
      " 0   children          21019 non-null  int64 \n",
      " 1   days_employed     21019 non-null  int64 \n",
      " 2   dob_years         21019 non-null  int64 \n",
      " 3   education         21019 non-null  object\n",
      " 4   education_id      21019 non-null  int64 \n",
      " 5   family_status     21019 non-null  object\n",
      " 6   family_status_id  21019 non-null  int64 \n",
      " 7   gender            21019 non-null  object\n",
      " 8   income_type       21019 non-null  object\n",
      " 9   debt              21019 non-null  int64 \n",
      " 10  total_income      21019 non-null  int64 \n",
      " 11  purpose           21019 non-null  object\n",
      "dtypes: int64(7), object(5)\n",
      "memory usage: 1.9+ MB\n"
     ]
    }
   ],
   "source": [
    "df.info() # Получаем информацию о датафрейме"
   ]
  },
  {
   "cell_type": "markdown",
   "id": "abac5993",
   "metadata": {},
   "source": [
    "Выведем 5 случайных значений таблицы, чтобы посмотреть на результат:"
   ]
  },
  {
   "cell_type": "code",
   "execution_count": 71,
   "id": "34d7f912",
   "metadata": {},
   "outputs": [
    {
     "data": {
      "text/html": [
       "<div>\n",
       "<style scoped>\n",
       "    .dataframe tbody tr th:only-of-type {\n",
       "        vertical-align: middle;\n",
       "    }\n",
       "\n",
       "    .dataframe tbody tr th {\n",
       "        vertical-align: top;\n",
       "    }\n",
       "\n",
       "    .dataframe thead th {\n",
       "        text-align: right;\n",
       "    }\n",
       "</style>\n",
       "<table border=\"1\" class=\"dataframe\">\n",
       "  <thead>\n",
       "    <tr style=\"text-align: right;\">\n",
       "      <th></th>\n",
       "      <th>children</th>\n",
       "      <th>days_employed</th>\n",
       "      <th>dob_years</th>\n",
       "      <th>education</th>\n",
       "      <th>education_id</th>\n",
       "      <th>family_status</th>\n",
       "      <th>family_status_id</th>\n",
       "      <th>gender</th>\n",
       "      <th>income_type</th>\n",
       "      <th>debt</th>\n",
       "      <th>total_income</th>\n",
       "      <th>purpose</th>\n",
       "    </tr>\n",
       "  </thead>\n",
       "  <tbody>\n",
       "    <tr>\n",
       "      <th>15492</th>\n",
       "      <td>0</td>\n",
       "      <td>1069</td>\n",
       "      <td>29</td>\n",
       "      <td>высшее</td>\n",
       "      <td>0</td>\n",
       "      <td>женат / замужем</td>\n",
       "      <td>0</td>\n",
       "      <td>F</td>\n",
       "      <td>сотрудник</td>\n",
       "      <td>0</td>\n",
       "      <td>195430</td>\n",
       "      <td>операции с недвижимостью</td>\n",
       "    </tr>\n",
       "    <tr>\n",
       "      <th>8910</th>\n",
       "      <td>1</td>\n",
       "      <td>805</td>\n",
       "      <td>47</td>\n",
       "      <td>высшее</td>\n",
       "      <td>0</td>\n",
       "      <td>женат / замужем</td>\n",
       "      <td>0</td>\n",
       "      <td>F</td>\n",
       "      <td>сотрудник</td>\n",
       "      <td>0</td>\n",
       "      <td>434872</td>\n",
       "      <td>операции с автомобилем</td>\n",
       "    </tr>\n",
       "    <tr>\n",
       "      <th>12282</th>\n",
       "      <td>2</td>\n",
       "      <td>923</td>\n",
       "      <td>44</td>\n",
       "      <td>среднее</td>\n",
       "      <td>1</td>\n",
       "      <td>гражданский брак</td>\n",
       "      <td>1</td>\n",
       "      <td>F</td>\n",
       "      <td>сотрудник</td>\n",
       "      <td>1</td>\n",
       "      <td>442278</td>\n",
       "      <td>проведение свадьбы</td>\n",
       "    </tr>\n",
       "    <tr>\n",
       "      <th>5269</th>\n",
       "      <td>0</td>\n",
       "      <td>2392</td>\n",
       "      <td>28</td>\n",
       "      <td>среднее</td>\n",
       "      <td>1</td>\n",
       "      <td>гражданский брак</td>\n",
       "      <td>1</td>\n",
       "      <td>F</td>\n",
       "      <td>сотрудник</td>\n",
       "      <td>0</td>\n",
       "      <td>114621</td>\n",
       "      <td>проведение свадьбы</td>\n",
       "    </tr>\n",
       "    <tr>\n",
       "      <th>3004</th>\n",
       "      <td>0</td>\n",
       "      <td>1394</td>\n",
       "      <td>50</td>\n",
       "      <td>среднее</td>\n",
       "      <td>1</td>\n",
       "      <td>гражданский брак</td>\n",
       "      <td>1</td>\n",
       "      <td>M</td>\n",
       "      <td>сотрудник</td>\n",
       "      <td>0</td>\n",
       "      <td>266916</td>\n",
       "      <td>операции с автомобилем</td>\n",
       "    </tr>\n",
       "  </tbody>\n",
       "</table>\n",
       "</div>"
      ],
      "text/plain": [
       "       children  days_employed  dob_years education  education_id  \\\n",
       "15492         0           1069         29    высшее             0   \n",
       "8910          1            805         47    высшее             0   \n",
       "12282         2            923         44   среднее             1   \n",
       "5269          0           2392         28   среднее             1   \n",
       "3004          0           1394         50   среднее             1   \n",
       "\n",
       "          family_status  family_status_id gender income_type  debt  \\\n",
       "15492   женат / замужем                 0      F   сотрудник     0   \n",
       "8910    женат / замужем                 0      F   сотрудник     0   \n",
       "12282  гражданский брак                 1      F   сотрудник     1   \n",
       "5269   гражданский брак                 1      F   сотрудник     0   \n",
       "3004   гражданский брак                 1      M   сотрудник     0   \n",
       "\n",
       "       total_income                   purpose  \n",
       "15492        195430  операции с недвижимостью  \n",
       "8910         434872    операции с автомобилем  \n",
       "12282        442278        проведение свадьбы  \n",
       "5269         114621        проведение свадьбы  \n",
       "3004         266916    операции с автомобилем  "
      ]
     },
     "execution_count": 71,
     "metadata": {},
     "output_type": "execute_result"
    }
   ],
   "source": [
    "df.sample(5)"
   ]
  },
  {
   "cell_type": "markdown",
   "id": "5ecf3d34",
   "metadata": {},
   "source": [
    "## Категоризация данных и работа с гипотезой <a name=\"analis\"></a>"
   ]
  },
  {
   "cell_type": "markdown",
   "id": "d47e3307",
   "metadata": {},
   "source": [
    "Создадим два новых датафрейма, в которых:\n",
    "* каждому уникальному значению из `education` соответствует уникальное значение `education_id` — в первом;\n",
    "* каждому уникальному значению из `family_status` соответствует уникальное значение `family_status_id` — во втором."
   ]
  },
  {
   "cell_type": "code",
   "execution_count": 72,
   "id": "c3a93a33",
   "metadata": {},
   "outputs": [
    {
     "data": {
      "text/html": [
       "<div>\n",
       "<style scoped>\n",
       "    .dataframe tbody tr th:only-of-type {\n",
       "        vertical-align: middle;\n",
       "    }\n",
       "\n",
       "    .dataframe tbody tr th {\n",
       "        vertical-align: top;\n",
       "    }\n",
       "\n",
       "    .dataframe thead th {\n",
       "        text-align: right;\n",
       "    }\n",
       "</style>\n",
       "<table border=\"1\" class=\"dataframe\">\n",
       "  <thead>\n",
       "    <tr style=\"text-align: right;\">\n",
       "      <th></th>\n",
       "      <th>education</th>\n",
       "      <th>education_id</th>\n",
       "    </tr>\n",
       "  </thead>\n",
       "  <tbody>\n",
       "    <tr>\n",
       "      <th>0</th>\n",
       "      <td>высшее</td>\n",
       "      <td>0</td>\n",
       "    </tr>\n",
       "    <tr>\n",
       "      <th>1</th>\n",
       "      <td>среднее</td>\n",
       "      <td>1</td>\n",
       "    </tr>\n",
       "    <tr>\n",
       "      <th>2</th>\n",
       "      <td>неоконченное высшее</td>\n",
       "      <td>2</td>\n",
       "    </tr>\n",
       "    <tr>\n",
       "      <th>3</th>\n",
       "      <td>начальное</td>\n",
       "      <td>3</td>\n",
       "    </tr>\n",
       "    <tr>\n",
       "      <th>4</th>\n",
       "      <td>ученая степень</td>\n",
       "      <td>4</td>\n",
       "    </tr>\n",
       "  </tbody>\n",
       "</table>\n",
       "</div>"
      ],
      "text/plain": [
       "             education  education_id\n",
       "0               высшее             0\n",
       "1              среднее             1\n",
       "2  неоконченное высшее             2\n",
       "3            начальное             3\n",
       "4       ученая степень             4"
      ]
     },
     "execution_count": 72,
     "metadata": {},
     "output_type": "execute_result"
    }
   ],
   "source": [
    "df_education = df[['education','education_id']]    # создаем новую таблицу `df_education`, которая содержит столбцы 'education' и'education_id'\n",
    "df_education = df_education.drop_duplicates().reset_index(drop=True)  # удаляем дубликаты из новой таблицы\n",
    "df_education               # выводим новую таблицу df_education"
   ]
  },
  {
   "cell_type": "code",
   "execution_count": 73,
   "id": "57379e97",
   "metadata": {},
   "outputs": [
    {
     "data": {
      "text/html": [
       "<div>\n",
       "<style scoped>\n",
       "    .dataframe tbody tr th:only-of-type {\n",
       "        vertical-align: middle;\n",
       "    }\n",
       "\n",
       "    .dataframe tbody tr th {\n",
       "        vertical-align: top;\n",
       "    }\n",
       "\n",
       "    .dataframe thead th {\n",
       "        text-align: right;\n",
       "    }\n",
       "</style>\n",
       "<table border=\"1\" class=\"dataframe\">\n",
       "  <thead>\n",
       "    <tr style=\"text-align: right;\">\n",
       "      <th></th>\n",
       "      <th>family_status</th>\n",
       "      <th>family_status_id</th>\n",
       "    </tr>\n",
       "  </thead>\n",
       "  <tbody>\n",
       "    <tr>\n",
       "      <th>0</th>\n",
       "      <td>женат / замужем</td>\n",
       "      <td>0</td>\n",
       "    </tr>\n",
       "    <tr>\n",
       "      <th>1</th>\n",
       "      <td>гражданский брак</td>\n",
       "      <td>1</td>\n",
       "    </tr>\n",
       "    <tr>\n",
       "      <th>2</th>\n",
       "      <td>вдовец / вдова</td>\n",
       "      <td>2</td>\n",
       "    </tr>\n",
       "    <tr>\n",
       "      <th>3</th>\n",
       "      <td>в разводе</td>\n",
       "      <td>3</td>\n",
       "    </tr>\n",
       "    <tr>\n",
       "      <th>4</th>\n",
       "      <td>не женат / не замужем</td>\n",
       "      <td>4</td>\n",
       "    </tr>\n",
       "  </tbody>\n",
       "</table>\n",
       "</div>"
      ],
      "text/plain": [
       "           family_status  family_status_id\n",
       "0        женат / замужем                 0\n",
       "1       гражданский брак                 1\n",
       "2         вдовец / вдова                 2\n",
       "3              в разводе                 3\n",
       "4  не женат / не замужем                 4"
      ]
     },
     "execution_count": 73,
     "metadata": {},
     "output_type": "execute_result"
    }
   ],
   "source": [
    "df_family = df[['family_status','family_status_id']]    # создаем новую таблицу `df_family`, которая содержит столбцы 'family_status' и'family_status_id'\n",
    "df_family = df_family.drop_duplicates().reset_index(drop=True)  # удаляем дубликаты из новой таблицы\n",
    "df_family               # выводим новую таблицу df_family"
   ]
  },
  {
   "cell_type": "markdown",
   "id": "60495db5",
   "metadata": {},
   "source": [
    "В каждой из таблиц `df_education` и `df_family` у нас по 5 уникальных категорий.<br>\n",
    "Теперь удалим из исходного датафрейма столбцы `education` и `family_status`, оставив только их идентификаторы: `education_id` и `family_status_id`.<br>\n",
    "Новые датафреймы — это «словари», к которым мы сможем обращаться по идентификатору."
   ]
  },
  {
   "cell_type": "code",
   "execution_count": 74,
   "id": "45c93d68",
   "metadata": {},
   "outputs": [],
   "source": [
    "df.drop(['education','family_status'], axis=1, inplace=True) # удаляем столбцы 'education','family_status' без необходимости переназначения df \n",
    "                                                                # (изменяем существующий параметром inplace)"
   ]
  },
  {
   "cell_type": "markdown",
   "id": "70c5ee41",
   "metadata": {},
   "source": [
    "На основании диапазонов, указанных ниже, создадим столбец `total_income_category` с категориями:\n",
    "* 0–30000 — 'E';\n",
    "* 30001–50000 — 'D';\n",
    "* 50001–200000 — 'C';\n",
    "* 200001–1000000 — 'B';\n",
    "* 1000001 и выше — 'A'.\n",
    "\n",
    "Для этого создадим функцию `total_income_group(income)`, которая оценивает ежемесячный доход клиента и возвращает группу, которой клиент принадлежит"
   ]
  },
  {
   "cell_type": "code",
   "execution_count": 75,
   "id": "0f9bf5e6",
   "metadata": {},
   "outputs": [],
   "source": [
    "def total_income_group(income):\n",
    "    if income <= 30000:\n",
    "        return 'E'\n",
    "    elif 30001 <= income <= 50000:\n",
    "        return 'D'\n",
    "    elif 50001 <= income <= 200000:\n",
    "        return 'C'\n",
    "    elif 200001 <= income <= 1000000:\n",
    "        return 'B'\n",
    "    else:\n",
    "        return 'A'"
   ]
  },
  {
   "cell_type": "markdown",
   "id": "22280dde",
   "metadata": {},
   "source": [
    "Создадим в датафрейме `df` новый столбец `total_income_category`, в который поместим результат выполнения функции `total_income_group` по столбцу `total_income`:"
   ]
  },
  {
   "cell_type": "code",
   "execution_count": 76,
   "id": "1c7e9174",
   "metadata": {},
   "outputs": [],
   "source": [
    "df['total_income_category'] = df['total_income'].apply(total_income_group) # создаем новый столбец `total_income_category`,\n",
    "                                                                           # который содержит категории клиентов по ежемесячному доходу"
   ]
  },
  {
   "cell_type": "markdown",
   "id": "b64db956-6b93-4ce5-9bf4-d9e119dc391f",
   "metadata": {},
   "source": [
    "Теперь по условиям задачи мы должны создать функцию, которая на основании данных из столбца `purpose` сформирует новый столбец `purpose_category`, в который войдут следующие категории:\n",
    "* операции с автомобилем;\n",
    "* операции с недвижимостью;\n",
    "* проведение свадьбы;\n",
    "* получение образования.\n",
    "\n",
    "Мы это уже сделали на этапе работы с дубликатами, перезаписав сам столбец `purpose`, тем самым выявив больше дубликатов, чем мы могли выявить, если бы создали дополнительный столбец, а также сэкономили память, выделяемую на хранение датафрейма и время обработки датафрейма. <br>\n",
    "\n",
    "*Примечание 1: Можно создать еще одну таблицу с категориями целей выдачи кредита, сэконовим еще память и ресурсы, но это не входит в задачи данного проекта.*\n",
    "\n",
    "*Примечание 2: Предварительный подсчет показал 404 явных дубликатов с приведением самого столбца `purpose` против 71 явного дубликата без приведения этого столбца к отдельным категориям, а созданием дополнительного столбца `purpose_category`. Данная работа не вошла в проект, поскольку проводилась отдельно, иначе это бы сильно увеличило исследование.*"
   ]
  },
  {
   "cell_type": "markdown",
   "id": "0fb8b842-19e3-4202-b0b4-ea20407d2cfd",
   "metadata": {},
   "source": [
    "## Ответы на вопросы <a name=\"questions\"></a>"
   ]
  },
  {
   "cell_type": "markdown",
   "id": "8c02c09b-5adb-44b7-8dd4-2b6273aac878",
   "metadata": {},
   "source": [
    "Пора проанализировать полученные данные и ответить на следующие вопросы:\n",
    "1. [Есть ли зависимость между количеством детей и возвратом кредита в срок?](#q1)\n",
    "2. [Есть ли зависимость между семейным положением и возвратом кредита в срок?](#q2)\n",
    "3. [Есть ли зависимость между уровнем дохода и возвратом кредита в срок?](#q3)\n",
    "4. [Как разные цели кредита влияют на его возврат в срок?](#q4)"
   ]
  },
  {
   "cell_type": "markdown",
   "id": "a0235b12-b311-4492-a9ee-e7a439661e5b",
   "metadata": {},
   "source": [
    "<a name=\"q1\"></a>*Начнем с первого*. Определим, есть ли зависимость между количеством детей и возвратов кредита в срок. \n",
    "Для этого во-первых подсчитаем количество должников, сгруппировав их по количеству детей, а также количество всех клиентов по возрастам:"
   ]
  },
  {
   "cell_type": "code",
   "execution_count": 77,
   "id": "14096e63-f9ff-4e2d-8577-2f1a36885b4f",
   "metadata": {},
   "outputs": [
    {
     "data": {
      "text/html": [
       "<div>\n",
       "<style scoped>\n",
       "    .dataframe tbody tr th:only-of-type {\n",
       "        vertical-align: middle;\n",
       "    }\n",
       "\n",
       "    .dataframe tbody tr th {\n",
       "        vertical-align: top;\n",
       "    }\n",
       "\n",
       "    .dataframe thead th {\n",
       "        text-align: right;\n",
       "    }\n",
       "</style>\n",
       "<table border=\"1\" class=\"dataframe\">\n",
       "  <thead>\n",
       "    <tr style=\"text-align: right;\">\n",
       "      <th></th>\n",
       "      <th>Sum</th>\n",
       "      <th>Count</th>\n",
       "    </tr>\n",
       "    <tr>\n",
       "      <th>children</th>\n",
       "      <th></th>\n",
       "      <th></th>\n",
       "    </tr>\n",
       "  </thead>\n",
       "  <tbody>\n",
       "    <tr>\n",
       "      <th>0</th>\n",
       "      <td>1056</td>\n",
       "      <td>13760</td>\n",
       "    </tr>\n",
       "    <tr>\n",
       "      <th>1</th>\n",
       "      <td>442</td>\n",
       "      <td>4782</td>\n",
       "    </tr>\n",
       "    <tr>\n",
       "      <th>2</th>\n",
       "      <td>202</td>\n",
       "      <td>2101</td>\n",
       "    </tr>\n",
       "    <tr>\n",
       "      <th>3</th>\n",
       "      <td>27</td>\n",
       "      <td>327</td>\n",
       "    </tr>\n",
       "    <tr>\n",
       "      <th>4</th>\n",
       "      <td>4</td>\n",
       "      <td>40</td>\n",
       "    </tr>\n",
       "    <tr>\n",
       "      <th>5</th>\n",
       "      <td>0</td>\n",
       "      <td>9</td>\n",
       "    </tr>\n",
       "  </tbody>\n",
       "</table>\n",
       "</div>"
      ],
      "text/plain": [
       "           Sum  Count\n",
       "children             \n",
       "0         1056  13760\n",
       "1          442   4782\n",
       "2          202   2101\n",
       "3           27    327\n",
       "4            4     40\n",
       "5            0      9"
      ]
     },
     "execution_count": 77,
     "metadata": {},
     "output_type": "execute_result"
    }
   ],
   "source": [
    "# группируем всех клиентов по количеству детей, применяем агрегацию \n",
    "df_grouped_children_debt = df.groupby('children')['debt'].agg(Sum='sum', Count='count')\n",
    "# двух функций, где Sum - сумма всех должников ('debt'=1), Count = их количество,\n",
    "# сохраняем это в новый детефрейм df_grouped_children_debt\n",
    "df_grouped_children_debt"
   ]
  },
  {
   "cell_type": "markdown",
   "id": "9dbec891-dcad-45da-8960-22d5540884b6",
   "metadata": {},
   "source": [
    "Мы получили абсолютные значения. Но они могут быть нерепрезентативными, поскольку количество клиентов неравномерно распределено относительно количества детей.<br>\n",
    "Подсчитаем относительные значения должников по количеству детей, разделив сумму должников на общее количество по возрастным категориям:"
   ]
  },
  {
   "cell_type": "code",
   "execution_count": 78,
   "id": "b13a751b-a82c-4f83-9c38-c4982673240b",
   "metadata": {},
   "outputs": [
    {
     "data": {
      "text/plain": [
       "<AxesSubplot:xlabel='children', ylabel='Mean'>"
      ]
     },
     "execution_count": 78,
     "metadata": {},
     "output_type": "execute_result"
    },
    {
     "data": {
      "image/png": "[encoded data removed]",
      "text/plain": [
       "<Figure size 432x288 with 1 Axes>"
      ]
     },
     "metadata": {
      "needs_background": "light"
     },
     "output_type": "display_data"
    }
   ],
   "source": [
    "# считаем должников от общего колдичества клинетов по возрастным группам\n",
    "df_grouped_children_debt['Mean'] = df_grouped_children_debt['Sum'] / df_grouped_children_debt['Count'] * 100 \n",
    "# построим диаграмму распределения количества детей от относительного числа должников\n",
    "sps.scatterplot(x='children', y='Mean', data=df_grouped_children_debt, size='Mean', hue='Mean') "
   ]
  },
  {
   "cell_type": "markdown",
   "id": "05a43827-932f-417f-8334-a8a822e75d25",
   "metadata": {},
   "source": [
    "Относительные данные вполне показательны.\n",
    "Можно сделать вывод, что записимость количества детей от возврата кредита в срок есть (на мой взгляд, несущественная). <br>\n",
    "Среди клиентов с двумя и четырьмя детьми должников больше всего в относительном выражении.<br>\n",
    "А среди клиентов с пятью деньми должников нет, но таких клиентов всего 9 человек - людей с таким большим количеством детей мало."
   ]
  },
  {
   "cell_type": "markdown",
   "id": "8eff2cd3-3bf8-400a-83d3-1348c3c8c6da",
   "metadata": {},
   "source": [
    "Подкрепим диаграмму распределения сводной таблицей:"
   ]
  },
  {
   "cell_type": "code",
   "execution_count": 79,
   "id": "95391f3f-74f9-4f1d-9418-e14b0e4c8ccf",
   "metadata": {},
   "outputs": [
    {
     "data": {
      "text/html": [
       "<div>\n",
       "<style scoped>\n",
       "    .dataframe tbody tr th:only-of-type {\n",
       "        vertical-align: middle;\n",
       "    }\n",
       "\n",
       "    .dataframe tbody tr th {\n",
       "        vertical-align: top;\n",
       "    }\n",
       "\n",
       "    .dataframe thead tr th {\n",
       "        text-align: left;\n",
       "    }\n",
       "\n",
       "    .dataframe thead tr:last-of-type th {\n",
       "        text-align: right;\n",
       "    }\n",
       "</style>\n",
       "<table border=\"1\" class=\"dataframe\">\n",
       "  <thead>\n",
       "    <tr>\n",
       "      <th></th>\n",
       "      <th>sum</th>\n",
       "      <th>count</th>\n",
       "      <th>%</th>\n",
       "    </tr>\n",
       "    <tr>\n",
       "      <th></th>\n",
       "      <th>debt</th>\n",
       "      <th>debt</th>\n",
       "      <th></th>\n",
       "    </tr>\n",
       "    <tr>\n",
       "      <th>children</th>\n",
       "      <th></th>\n",
       "      <th></th>\n",
       "      <th></th>\n",
       "    </tr>\n",
       "  </thead>\n",
       "  <tbody>\n",
       "    <tr>\n",
       "      <th>5</th>\n",
       "      <td>0</td>\n",
       "      <td>9</td>\n",
       "      <td>0.00</td>\n",
       "    </tr>\n",
       "    <tr>\n",
       "      <th>0</th>\n",
       "      <td>1056</td>\n",
       "      <td>13760</td>\n",
       "      <td>7.67</td>\n",
       "    </tr>\n",
       "    <tr>\n",
       "      <th>3</th>\n",
       "      <td>27</td>\n",
       "      <td>327</td>\n",
       "      <td>8.26</td>\n",
       "    </tr>\n",
       "    <tr>\n",
       "      <th>1</th>\n",
       "      <td>442</td>\n",
       "      <td>4782</td>\n",
       "      <td>9.24</td>\n",
       "    </tr>\n",
       "    <tr>\n",
       "      <th>2</th>\n",
       "      <td>202</td>\n",
       "      <td>2101</td>\n",
       "      <td>9.61</td>\n",
       "    </tr>\n",
       "    <tr>\n",
       "      <th>4</th>\n",
       "      <td>4</td>\n",
       "      <td>40</td>\n",
       "      <td>10.00</td>\n",
       "    </tr>\n",
       "  </tbody>\n",
       "</table>\n",
       "</div>"
      ],
      "text/plain": [
       "           sum  count      %\n",
       "          debt   debt       \n",
       "children                    \n",
       "5            0      9   0.00\n",
       "0         1056  13760   7.67\n",
       "3           27    327   8.26\n",
       "1          442   4782   9.24\n",
       "2          202   2101   9.61\n",
       "4            4     40  10.00"
      ]
     },
     "execution_count": 79,
     "metadata": {},
     "output_type": "execute_result"
    }
   ],
   "source": [
    "# строим сводную таблицу, считая должников (sum) и общее число клиентов (count), группируя по количесту детей\n",
    "pivot_children = df.pivot_table(index='children', values='debt', aggfunc=['sum', 'count']) \n",
    "\n",
    "pivot_children['%'] = round(pivot_children['sum'] / pivot_children['count'] * 100, 2) # добавляем процент должников от общего числа плиентов\n",
    "\n",
    "pivot_children.sort_values('%') # выводим, сортируя от меньшего относительного значения к большему - как на диаграмме распределения выше"
   ]
  },
  {
   "cell_type": "markdown",
   "id": "6fad17b8-7b20-45a5-b947-df6d6628f61b",
   "metadata": {},
   "source": [
    "<a name=\"q2\"></a> *Перейдем ко второму вопросу:* есть ли зависимость между семейным положением и возвратом кредита в срок?<br>\n",
    "Для этого сгруппируем наши данные по семейному статусу `family_status_id` и подсчитаем среднее количество должников от общего числа клиентов и посмотрим на получившийся результат."
   ]
  },
  {
   "cell_type": "code",
   "execution_count": 80,
   "id": "3de4e8cb-1194-42e8-8400-c85da0ae8c8e",
   "metadata": {},
   "outputs": [
    {
     "data": {
      "text/html": [
       "<div>\n",
       "<style scoped>\n",
       "    .dataframe tbody tr th:only-of-type {\n",
       "        vertical-align: middle;\n",
       "    }\n",
       "\n",
       "    .dataframe tbody tr th {\n",
       "        vertical-align: top;\n",
       "    }\n",
       "\n",
       "    .dataframe thead th {\n",
       "        text-align: right;\n",
       "    }\n",
       "</style>\n",
       "<table border=\"1\" class=\"dataframe\">\n",
       "  <thead>\n",
       "    <tr style=\"text-align: right;\">\n",
       "      <th></th>\n",
       "      <th>family_status_id</th>\n",
       "      <th>Mean</th>\n",
       "      <th>family_status</th>\n",
       "    </tr>\n",
       "  </thead>\n",
       "  <tbody>\n",
       "    <tr>\n",
       "      <th>4</th>\n",
       "      <td>4</td>\n",
       "      <td>0.098627</td>\n",
       "      <td>не женат / не замужем</td>\n",
       "    </tr>\n",
       "    <tr>\n",
       "      <th>1</th>\n",
       "      <td>1</td>\n",
       "      <td>0.094100</td>\n",
       "      <td>гражданский брак</td>\n",
       "    </tr>\n",
       "    <tr>\n",
       "      <th>0</th>\n",
       "      <td>0</td>\n",
       "      <td>0.076904</td>\n",
       "      <td>женат / замужем</td>\n",
       "    </tr>\n",
       "    <tr>\n",
       "      <th>3</th>\n",
       "      <td>3</td>\n",
       "      <td>0.071851</td>\n",
       "      <td>в разводе</td>\n",
       "    </tr>\n",
       "    <tr>\n",
       "      <th>2</th>\n",
       "      <td>2</td>\n",
       "      <td>0.066098</td>\n",
       "      <td>вдовец / вдова</td>\n",
       "    </tr>\n",
       "  </tbody>\n",
       "</table>\n",
       "</div>"
      ],
      "text/plain": [
       "   family_status_id      Mean          family_status\n",
       "4                 4  0.098627  не женат / не замужем\n",
       "1                 1  0.094100       гражданский брак\n",
       "0                 0  0.076904        женат / замужем\n",
       "3                 3  0.071851              в разводе\n",
       "2                 2  0.066098         вдовец / вдова"
      ]
     },
     "execution_count": 80,
     "metadata": {},
     "output_type": "execute_result"
    }
   ],
   "source": [
    "# группируем датафрейм по семейному статусу, считаем среднее количество должников относительно общего числа клиентов.\n",
    "# затем присоединяем датафрейм-\"словарь\" с семейными статусами df_family\n",
    "df.groupby('family_status_id')['debt'] \\\n",
    "    .agg(Mean='mean') \\\n",
    "    .merge(right=df_family, on='family_status_id', how='left') \\\n",
    "    .sort_values(by='Mean', ascending=False)"
   ]
  },
  {
   "cell_type": "markdown",
   "id": "e9406f5e-0cab-41d1-90fe-b835aa42180f",
   "metadata": {},
   "source": [
    "Можно сделать вывод, что количество неженатых клиентов или клиентов в гражданском браке реже возвращают кредит в срок, чем клиенты остальных категорий."
   ]
  },
  {
   "cell_type": "markdown",
   "id": "c0794439-7011-4dbd-93b1-a9a533fbba87",
   "metadata": {},
   "source": [
    "<a name= \"q3\"></a> *Следующий вопрос:* есть ли зависимость между уровнем дохода и возвратом кредита в срок?<br>\n",
    "Сделаем группировку по `total_income_id`, подсчитав среднее количество должников от общего числа:"
   ]
  },
  {
   "cell_type": "code",
   "execution_count": 81,
   "id": "e349a268-726c-4ffc-b910-c910db934cd0",
   "metadata": {},
   "outputs": [
    {
     "data": {
      "text/plain": [
       "total_income_category\n",
       "E    9.090909\n",
       "C    8.655263\n",
       "A    8.000000\n",
       "B    7.078764\n",
       "D    6.034483\n",
       "Name: debt, dtype: float64"
      ]
     },
     "execution_count": 81,
     "metadata": {},
     "output_type": "execute_result"
    }
   ],
   "source": [
    "df.groupby('total_income_category')['debt'] \\\n",
    "    .mean() \\\n",
    "    .sort_values(ascending=False) * 100 # группируем датафрейм по категории дохода \n",
    "# и считаем количество должников, умножим на 100 и отсортируем по убыванию для наглядности"
   ]
  },
  {
   "cell_type": "markdown",
   "id": "e339ef06-bac8-492d-891c-54d2d38359e0",
   "metadata": {},
   "source": [
    "Клиенты с самым низким доходом (категория *`E`* - до 30000) реже всех возвращают кредит в срок. А вот следующая категория - *`D`* (от 30001 до 50000) возвращают кредит в срок чаще остальных."
   ]
  },
  {
   "cell_type": "markdown",
   "id": "ee4a993a-2638-4dc7-bed3-1ef0d0852693",
   "metadata": {},
   "source": [
    "<a name=\"q4\"></a>*Ответим на последний вопрос:* как разные цели кредита влияют на его возврат в срок?\n",
    "Для этого сгруппируем категории выдачи кредита и подсчитаем среднее количество должников:"
   ]
  },
  {
   "cell_type": "code",
   "execution_count": 82,
   "id": "592e7413-69e4-483b-b39e-0d1ab3d3d4ac",
   "metadata": {},
   "outputs": [
    {
     "data": {
      "text/plain": [
       "purpose\n",
       "операции с автомобилем      9.388235\n",
       "получение образования       9.376584\n",
       "проведение свадьбы          8.027923\n",
       "операции с недвижимостью    7.387712\n",
       "Name: debt, dtype: float64"
      ]
     },
     "execution_count": 82,
     "metadata": {},
     "output_type": "execute_result"
    }
   ],
   "source": [
    "# группируем таблицу по цели выдачи кредита, считаем среднее значение поля `debt` - среднее количество должников в каждой категории,\n",
    "# затем сортируем по убыванию\n",
    "df.groupby('purpose')['debt'] \\\n",
    "    .mean() \\\n",
    "    .sort_values(ascending=False) * 100"
   ]
  },
  {
   "cell_type": "markdown",
   "id": "15fef781-70d7-42a6-a275-0d53849c520c",
   "metadata": {},
   "source": [
    "Можно сделать вывод, что разные цели кредита влияют на его возврат в срок - реже всего возвращают в срок кредиты, выданные на операции с автомобилем и на получение образования. Чаще всего - кредиты, полученные на операции с недвижимостью."
   ]
  },
  {
   "cell_type": "markdown",
   "id": "fef601fe-4bb0-46e3-a7aa-ff3619d357f2",
   "metadata": {},
   "source": [
    "Для окончательной проверки [*гипотезы*](#hypothesis) построим сводную таблицу, сгруппировав клиентов по количеству детей и семейному положению, подсчитав среднее значение должников (в процентах):"
   ]
  },
  {
   "cell_type": "code",
   "execution_count": 83,
   "id": "83fcaeec-d499-4c12-ad03-e46911e3a452",
   "metadata": {},
   "outputs": [
    {
     "data": {
      "text/html": [
       "<div>\n",
       "<style scoped>\n",
       "    .dataframe tbody tr th:only-of-type {\n",
       "        vertical-align: middle;\n",
       "    }\n",
       "\n",
       "    .dataframe tbody tr th {\n",
       "        vertical-align: top;\n",
       "    }\n",
       "\n",
       "    .dataframe thead th {\n",
       "        text-align: right;\n",
       "    }\n",
       "</style>\n",
       "<table border=\"1\" class=\"dataframe\">\n",
       "  <thead>\n",
       "    <tr style=\"text-align: right;\">\n",
       "      <th>family_status</th>\n",
       "      <th>в разводе</th>\n",
       "      <th>вдовец / вдова</th>\n",
       "      <th>гражданский брак</th>\n",
       "      <th>женат / замужем</th>\n",
       "      <th>не женат / не замужем</th>\n",
       "    </tr>\n",
       "    <tr>\n",
       "      <th>children</th>\n",
       "      <th></th>\n",
       "      <th></th>\n",
       "      <th></th>\n",
       "      <th></th>\n",
       "      <th></th>\n",
       "    </tr>\n",
       "  </thead>\n",
       "  <tbody>\n",
       "    <tr>\n",
       "      <th>0</th>\n",
       "      <td>7.096774</td>\n",
       "      <td>6.295400</td>\n",
       "      <td>8.426132</td>\n",
       "      <td>7.069870</td>\n",
       "      <td>9.446694</td>\n",
       "    </tr>\n",
       "    <tr>\n",
       "      <th>1</th>\n",
       "      <td>6.666667</td>\n",
       "      <td>8.641975</td>\n",
       "      <td>11.919192</td>\n",
       "      <td>8.322011</td>\n",
       "      <td>11.283186</td>\n",
       "    </tr>\n",
       "    <tr>\n",
       "      <th>2</th>\n",
       "      <td>9.876543</td>\n",
       "      <td>12.500000</td>\n",
       "      <td>9.375000</td>\n",
       "      <td>9.481102</td>\n",
       "      <td>12.048193</td>\n",
       "    </tr>\n",
       "    <tr>\n",
       "      <th>3</th>\n",
       "      <td>9.090909</td>\n",
       "      <td>0.000000</td>\n",
       "      <td>14.285714</td>\n",
       "      <td>6.910569</td>\n",
       "      <td>12.500000</td>\n",
       "    </tr>\n",
       "    <tr>\n",
       "      <th>4</th>\n",
       "      <td>0.000000</td>\n",
       "      <td>0.000000</td>\n",
       "      <td>0.000000</td>\n",
       "      <td>10.714286</td>\n",
       "      <td>50.000000</td>\n",
       "    </tr>\n",
       "    <tr>\n",
       "      <th>5</th>\n",
       "      <td>0.000000</td>\n",
       "      <td>0.000000</td>\n",
       "      <td>0.000000</td>\n",
       "      <td>0.000000</td>\n",
       "      <td>0.000000</td>\n",
       "    </tr>\n",
       "  </tbody>\n",
       "</table>\n",
       "</div>"
      ],
      "text/plain": [
       "family_status  в разводе  вдовец / вдова  гражданский брак  женат / замужем  \\\n",
       "children                                                                      \n",
       "0               7.096774        6.295400          8.426132         7.069870   \n",
       "1               6.666667        8.641975         11.919192         8.322011   \n",
       "2               9.876543       12.500000          9.375000         9.481102   \n",
       "3               9.090909        0.000000         14.285714         6.910569   \n",
       "4               0.000000        0.000000          0.000000        10.714286   \n",
       "5               0.000000        0.000000          0.000000         0.000000   \n",
       "\n",
       "family_status  не женат / не замужем  \n",
       "children                              \n",
       "0                           9.446694  \n",
       "1                          11.283186  \n",
       "2                          12.048193  \n",
       "3                          12.500000  \n",
       "4                          50.000000  \n",
       "5                           0.000000  "
      ]
     },
     "execution_count": 83,
     "metadata": {},
     "output_type": "execute_result"
    }
   ],
   "source": [
    "# присоединяем таблицу df_family, склеивая ее по `family_status_id`, включая id из левой таблицы в итоговую,\n",
    "# строим сводную таблицу, где группировка по количеству детей - `children`; в качестве значений, которым будет происходить группировка - \n",
    "# `family_status` - семейный статус из таблицы df_family, в качестве значений таблицы - среднее количество должников (их сумма / общее количество\n",
    "# клиентов той же категории.\n",
    "# Для удобства восриятия, умножим средние значения на 100, чтобы получить процент должников от общего числа клиентов той же категории - \n",
    "# для этого используем lambda функцию. Пропуски заполним нулями\n",
    "df.merge(right=df_family, on='family_status_id', how='left') \\\n",
    "    .pivot_table(index='children',\n",
    "        columns='family_status',\n",
    "        values='debt',\n",
    "        aggfunc=lambda x: np.mean(x*100),\n",
    "        fill_value=0\n",
    ")"
   ]
  },
  {
   "cell_type": "markdown",
   "id": "70db395a-c3ff-4aba-8deb-711017f6ac21",
   "metadata": {},
   "source": [
    "Можно сделать промежуточный вывод о том, что больше всех долгов имеют неженатые клиенты с четырьмя детьми.<br>\n",
    "Но их самих, таких клиентов, не так уж и много:"
   ]
  },
  {
   "cell_type": "code",
   "execution_count": 84,
   "id": "b06c06bb-951f-4005-a41c-20bd16de956a",
   "metadata": {},
   "outputs": [
    {
     "data": {
      "text/plain": [
       "2"
      ]
     },
     "execution_count": 84,
     "metadata": {},
     "output_type": "execute_result"
    }
   ],
   "source": [
    "df[(df['children'] == 4) & (df['family_status_id'] == 4)]['children'].count() # выбираем клиентов, у которых 4 детей и статусемейный статус\n",
    "# не женат / не замужем - `family_status_id` = 4, и считаем их количество"
   ]
  },
  {
   "cell_type": "markdown",
   "id": "d629b96e-57e3-4133-9053-7b1c8496e473",
   "metadata": {},
   "source": [
    "Всего двое, один из которых - не платит вовремя по кредиту. <br>\n",
    "Получается, представление данных с использованием только относительных значений - не репрезентативно."
   ]
  },
  {
   "cell_type": "markdown",
   "id": "bef920ba-f15e-4d59-a7cf-a969a5987c37",
   "metadata": {},
   "source": [
    "С учетом этого построим тепловую карту, используя не относительные, а абсолютные значения количества должников:"
   ]
  },
  {
   "cell_type": "code",
   "execution_count": 85,
   "id": "46d127f4-bfd6-4d74-802d-c0ad268fb760",
   "metadata": {},
   "outputs": [
    {
     "data": {
      "text/plain": [
       "<AxesSubplot:xlabel='family_status', ylabel='children'>"
      ]
     },
     "execution_count": 85,
     "metadata": {},
     "output_type": "execute_result"
    },
    {
     "data": {
      "image/png": "[encoded data removed]",
      "text/plain": [
       "<Figure size 432x288 with 2 Axes>"
      ]
     },
     "metadata": {
      "needs_background": "light"
     },
     "output_type": "display_data"
    }
   ],
   "source": [
    "# строим хитмэп, данными для которого является сводная таблица по параметрам из таблицы выше, но в качестве агрегирующей функции у нас теперь\n",
    "# sum - считаем сумму по столбцу `debt` - количество клиентов, имеющих задолженность (сумма значений, равных единице).\n",
    "# градиент хитмэпа будет от \"холодного\" к \"горячему\", включим аннотацию с количеством должников, немного разнесем цветные прямоугольники \n",
    "# (linewidths=1), для улучшения читабельности вставим аргумент fmt='.3g' - округление до 3 знаков\n",
    "sps.heatmap(\n",
    "    df.merge(right=df_family, on='family_status_id', how='left') \\\n",
    "        .pivot_table(index='children',\n",
    "            columns='family_status',\n",
    "            values='debt',\n",
    "            aggfunc='sum',\n",
    "            fill_value=0,\n",
    "    ),\n",
    "    cmap='coolwarm',\n",
    "    annot=True,\n",
    "    linewidths=1,\n",
    "    fmt='.3g'\n",
    ")"
   ]
  },
  {
   "cell_type": "markdown",
   "id": "0c004c47-4f35-496e-9fc9-022b225a0e9c",
   "metadata": {},
   "source": [
    "Промежуточный вывод: в абсолютном значении больше всего должников среди женатых (замужних) клиентов без детей.<br>\n",
    "Самые надежные клиенты - те, у которых не менее трех детей, при этом находящиеся либо в разводе, либо потерявшие супруга (вдовцы/вдовы)."
   ]
  },
  {
   "cell_type": "markdown",
   "id": "de7fbd52-b394-45f4-9c13-85f73ed8b912",
   "metadata": {},
   "source": [
    "## Итоги исследования <a name=\"resume\"></a>"
   ]
  },
  {
   "cell_type": "markdown",
   "id": "2222fc6b-18f6-4362-b5f6-d9e53804f137",
   "metadata": {},
   "source": [
    "В ходе исследования мы ответили на несколько [*вопросов*](#questions) и установили:\n",
    "1. Количество детей само по себе не сильно зависит на возврат кредита в срок. Тем не менее, с увеличением количества детей (от отсутствия ребенка, до трех детей) немного увеличивается доля должников относительно общего количества заемщиков каждой категории. В абсолютных значениях среди кредиторов преимущественно люди без детей, поэтому и количество должников больше именно среди таких клиентов.\n",
    "2. Семейное положение влияет на возврат кредита в срок. Количество неженатых клиентов или клиенты, находящиеся в гражданском браке, реже возвращают кредит в срок, чем остальные клиенты.\n",
    "3. Клиенты с самым низким доходом реже всех возвращают кредит в срок. А вот следующая категория клиентов, с доходами от 30001 до 50000 возвращают кредит в срок чаще остальных.\n",
    "4. Наконец, разные цели кредита влияют на его возврат в срок по-разному: реже всего возвращают в срок кредиты, выданные на операции с автомобилем и на получение образования. Чаще всего - кредиты, полученные на операции с недвижимостью (как правило недвижимость находится в залоге у банка)."
   ]
  },
  {
   "cell_type": "markdown",
   "id": "bfab8452-87ff-44d6-b782-cb639f13f920",
   "metadata": {},
   "source": [
    "Мы проверили [*основную гипотезу*](#hypothesis) и можем сделать общий вывод исследования: __одновременно два фактора__ - семейное положение и количество детей у клиента, - влияет на факт погашения кредита в срок. Практически вовремя (без задолженностей) возвращают кредит клиенты, у которых не менее трех детей, при этом находящиеся в разводе, либо вдовцы/вдовы. В абсолютном значении больше всего должников среди женатых (замужних) клиентов, не имеющих детей.<br>\n",
    "Гипотеза подтвердилась, исследование завершено."
   ]
  }
 ],
 "metadata": {
  "ExecuteTimeLog": [
   {
    "duration": 1409,
    "start_time": "2022-04-20T16:26:29.935Z"
   },
   {
    "duration": 16,
    "start_time": "2022-04-20T16:26:31.346Z"
   },
   {
    "duration": 17,
    "start_time": "2022-04-20T16:26:31.364Z"
   },
   {
    "duration": 4,
    "start_time": "2022-04-20T16:26:31.383Z"
   },
   {
    "duration": 12,
    "start_time": "2022-04-20T16:26:31.389Z"
   },
   {
    "duration": 14,
    "start_time": "2022-04-20T16:26:31.402Z"
   },
   {
    "duration": 6,
    "start_time": "2022-04-20T16:26:31.418Z"
   },
   {
    "duration": 8,
    "start_time": "2022-04-20T16:26:31.425Z"
   },
   {
    "duration": 40,
    "start_time": "2022-04-20T16:26:31.434Z"
   },
   {
    "duration": 6,
    "start_time": "2022-04-20T16:26:31.477Z"
   },
   {
    "duration": 5,
    "start_time": "2022-04-20T16:26:31.485Z"
   },
   {
    "duration": 6,
    "start_time": "2022-04-20T16:26:31.492Z"
   },
   {
    "duration": 15,
    "start_time": "2022-04-20T16:26:31.499Z"
   },
   {
    "duration": 7,
    "start_time": "2022-04-20T16:26:31.516Z"
   },
   {
    "duration": 49,
    "start_time": "2022-04-20T16:26:31.524Z"
   },
   {
    "duration": 9,
    "start_time": "2022-04-20T16:26:31.575Z"
   },
   {
    "duration": 10,
    "start_time": "2022-04-20T16:26:31.585Z"
   },
   {
    "duration": 8,
    "start_time": "2022-04-20T16:26:31.597Z"
   },
   {
    "duration": 10,
    "start_time": "2022-04-20T16:26:31.606Z"
   },
   {
    "duration": 15,
    "start_time": "2022-04-20T16:26:31.618Z"
   },
   {
    "duration": 6,
    "start_time": "2022-04-20T16:26:31.634Z"
   },
   {
    "duration": 22,
    "start_time": "2022-04-20T16:26:31.641Z"
   },
   {
    "duration": 849,
    "start_time": "2022-04-20T16:26:31.665Z"
   },
   {
    "duration": 148,
    "start_time": "2022-04-20T16:26:32.515Z"
   },
   {
    "duration": 8,
    "start_time": "2022-04-20T16:26:32.665Z"
   },
   {
    "duration": 20,
    "start_time": "2022-04-20T16:26:32.675Z"
   },
   {
    "duration": 7,
    "start_time": "2022-04-20T16:26:32.697Z"
   },
   {
    "duration": 7,
    "start_time": "2022-04-20T16:26:32.709Z"
   },
   {
    "duration": 15,
    "start_time": "2022-04-20T16:26:32.717Z"
   },
   {
    "duration": 378,
    "start_time": "2022-04-20T16:26:32.733Z"
   },
   {
    "duration": 6,
    "start_time": "2022-04-20T16:26:33.113Z"
   },
   {
    "duration": 6,
    "start_time": "2022-04-20T16:26:33.121Z"
   },
   {
    "duration": 11,
    "start_time": "2022-04-20T16:26:33.128Z"
   },
   {
    "duration": 6,
    "start_time": "2022-04-20T16:26:33.141Z"
   },
   {
    "duration": 36,
    "start_time": "2022-04-20T16:26:33.149Z"
   },
   {
    "duration": 4,
    "start_time": "2022-04-20T16:26:33.187Z"
   },
   {
    "duration": 9,
    "start_time": "2022-04-20T16:26:33.193Z"
   },
   {
    "duration": 23,
    "start_time": "2022-04-20T16:26:33.203Z"
   },
   {
    "duration": 10,
    "start_time": "2022-04-20T16:26:33.228Z"
   },
   {
    "duration": 11,
    "start_time": "2022-04-20T16:26:33.239Z"
   },
   {
    "duration": 8,
    "start_time": "2022-04-20T16:26:33.272Z"
   },
   {
    "duration": 13,
    "start_time": "2022-04-20T16:26:33.282Z"
   },
   {
    "duration": 9,
    "start_time": "2022-04-20T16:26:33.297Z"
   },
   {
    "duration": 11,
    "start_time": "2022-04-20T16:26:33.308Z"
   },
   {
    "duration": 11,
    "start_time": "2022-04-20T16:26:33.321Z"
   },
   {
    "duration": 4,
    "start_time": "2022-04-20T16:26:33.334Z"
   },
   {
    "duration": 976,
    "start_time": "2022-04-20T16:26:33.339Z"
   },
   {
    "duration": 9,
    "start_time": "2022-04-20T16:26:34.316Z"
   },
   {
    "duration": 12,
    "start_time": "2022-04-20T16:26:34.327Z"
   },
   {
    "duration": 13,
    "start_time": "2022-04-20T16:26:34.340Z"
   },
   {
    "duration": 24,
    "start_time": "2022-04-20T16:26:34.355Z"
   },
   {
    "duration": 15,
    "start_time": "2022-04-20T16:26:34.381Z"
   },
   {
    "duration": 420,
    "start_time": "2022-04-20T16:26:34.398Z"
   },
   {
    "duration": 15,
    "start_time": "2022-04-20T16:26:34.820Z"
   },
   {
    "duration": 171,
    "start_time": "2022-04-20T16:26:34.836Z"
   },
   {
    "duration": 18,
    "start_time": "2022-04-20T16:26:35.009Z"
   },
   {
    "duration": 11,
    "start_time": "2022-04-20T16:26:35.029Z"
   },
   {
    "duration": 15,
    "start_time": "2022-04-20T16:26:35.042Z"
   },
   {
    "duration": 1014,
    "start_time": "2022-04-20T16:26:35.059Z"
   },
   {
    "duration": 882,
    "start_time": "2022-04-20T16:26:36.075Z"
   },
   {
    "duration": 24,
    "start_time": "2022-04-20T16:26:36.959Z"
   },
   {
    "duration": 4,
    "start_time": "2022-04-20T16:26:36.984Z"
   },
   {
    "duration": 23,
    "start_time": "2022-04-20T16:26:36.990Z"
   },
   {
    "duration": 15,
    "start_time": "2022-04-20T16:26:37.015Z"
   },
   {
    "duration": 8,
    "start_time": "2022-04-20T16:26:37.031Z"
   },
   {
    "duration": 63,
    "start_time": "2022-04-20T16:26:37.040Z"
   },
   {
    "duration": 18,
    "start_time": "2022-04-20T16:26:37.105Z"
   },
   {
    "duration": 21,
    "start_time": "2022-04-20T16:26:37.125Z"
   },
   {
    "duration": 39,
    "start_time": "2022-04-20T16:26:37.148Z"
   },
   {
    "duration": 13,
    "start_time": "2022-04-20T16:26:37.188Z"
   },
   {
    "duration": 13,
    "start_time": "2022-04-20T16:26:37.203Z"
   },
   {
    "duration": 12,
    "start_time": "2022-04-20T16:26:37.217Z"
   },
   {
    "duration": 5,
    "start_time": "2022-04-20T16:26:37.231Z"
   },
   {
    "duration": 36,
    "start_time": "2022-04-20T16:26:37.238Z"
   },
   {
    "duration": 13,
    "start_time": "2022-04-20T16:26:37.276Z"
   },
   {
    "duration": 13,
    "start_time": "2022-04-20T16:26:37.291Z"
   },
   {
    "duration": 283,
    "start_time": "2022-04-20T16:26:37.305Z"
   },
   {
    "duration": 16,
    "start_time": "2022-04-20T16:26:37.589Z"
   },
   {
    "duration": 8,
    "start_time": "2022-04-20T16:26:37.607Z"
   },
   {
    "duration": 10,
    "start_time": "2022-04-20T16:26:37.617Z"
   },
   {
    "duration": 74,
    "start_time": "2022-04-20T16:26:37.629Z"
   },
   {
    "duration": 9,
    "start_time": "2022-04-20T16:26:37.709Z"
   },
   {
    "duration": 427,
    "start_time": "2022-04-20T16:26:37.719Z"
   }
  ],
  "kernelspec": {
   "display_name": "Python 3 (ipykernel)",
   "language": "python",
   "name": "python3"
  },
  "language_info": {
   "codemirror_mode": {
    "name": "ipython",
    "version": 3
   },
   "file_extension": ".py",
   "mimetype": "text/x-python",
   "name": "python",
   "nbconvert_exporter": "python",
   "pygments_lexer": "ipython3",
   "version": "3.9.5"
  },
  "toc": {
   "base_numbering": 1,
   "nav_menu": {},
   "number_sections": true,
   "sideBar": true,
   "skip_h1_title": true,
   "title_cell": "Table of Contents",
   "title_sidebar": "Contents",
   "toc_cell": false,
   "toc_position": {},
   "toc_section_display": true,
   "toc_window_display": false
  }
 },
 "nbformat": 4,
 "nbformat_minor": 5
}
